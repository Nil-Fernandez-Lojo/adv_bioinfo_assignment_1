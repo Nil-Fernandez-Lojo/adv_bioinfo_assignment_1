{
 "cells": [
  {
   "cell_type": "markdown",
   "metadata": {},
   "source": [
    "# 1st Assignment: Secondary structure prediction, influence of protein family and using evolutionary information.\n",
    "\n",
    "This report contains a description of my work for the first assignment of the \"Advanced Methods in Bioinformatics\" course 2019/2020 given at the ULB/VUB by Matthieu Defrance and Wim Vranken. The assignment was to implement a secondary structure prediction algorithm, analyse the influence of the protein family and use evolutionary information. In this report all the cells must be ran in the given order since some code uses previously defined functions and imports.\n",
    "\n",
    "## Table of contents\n",
    "1. [Introduction](#introduction)\n",
    "2. [Methods](#Methods)\n",
    "    1. [Theory](#Theory)\n",
    "        1. [GOR III](#GORIII) \n",
    "        2. [Neural Network and PHD method](#NN)\n",
    "        3. [Protein class prediction](#CATH)\n",
    "    2. [Implementation](#Implementation)\n",
    "        1. [BLAST and CLUSTAL OMEGA](#BLAST)\n",
    "        2. [GOR III](#GORIII_i) \n",
    "        3. [Neural Network and PHD method](#NN_i)\n",
    "        4. [Protein class prediction](#CATH_i)\n",
    "3. [Results and Discussion](#Results)\n",
    "    1. [GOR III](#GORIII_res)\n",
    "    2. [Neural Network](#NN_res)\n",
    "    3. [CATH family](#CATH_res)\n",
    "4. [Conclusion](#Conclusion)\n",
    "\n",
    "## Introduction <a name=\"Introduction\"></a>\n",
    "\n",
    "The protein secondary structure is the three dimensional form of local segments of proteins. The most common structures are $\\beta$-sheets and $\\alpha$-helices. Several algorithms exist to predict locally the secondary structure of the protein without computing its global tertiary structure (three dimensional shape of the protein) however since distant interactions of residues have an effect on the secondary structure, these algorithms have a limited performance. The state of the art secondary structure algorithms that include evolutionary information have an average accuracy ($Q_3$ score) below 80\\%.\n",
    "\n",
    "Two classes of algorithms that are commonly used for secondary structure prediction are those based on statistics and those based on machine learning. In this assignment these two classes of algorithms are explored by implementing GOR III <cite data-cite=\"7413522/2YZQU6A6\"></cite> which is based on information theory and a 1 hidden layer feed forward neural network. These algorithms were implemented on two provided data sets, one from STRIDE and the other one from DSSP. They contain the secondary structure that was experimentally obtained for 493 proteins.\n",
    "\n",
    "Moreover the influence of adding evolutionary information to these algorithms is also explored. To do so, BLAST was run for (almost) all proteins and the homologous sequences were aligned using a multiple sequence alignment using a Python script. However due to time constraints, this was done for all but 9 proteins.\n",
    "\n",
    "Finally, given the secondary structure prediction of a sequence, a classifier was trained to predict the CATH protein family of the sequence. \n",
    "\n",
    "In the next section the theory behind those algorithms as well as their implementation in python is provided. Then in the [Results and Discussion](#Results) section, their performance is presented and then analysed.\n",
    "## Methods <a name=\"Methods\"></a>\n",
    "\n",
    "### Theory  <a name=\"Theory\"></a>\n",
    "\n",
    "#### GOR III  <a name=\"GORIII\"></a>\n",
    "\n",
    "The GOR methods are based on the concepts of pointwise mutual information (pmi) between random variables:\n",
    "\\begin{align}\n",
    "I_{X,Y}(x;y) = \\log \\frac{p_{X,Y}(x,y)}{p_X(x)p_Y(y)}\n",
    "\\end{align}\n",
    "where $I$ is the pointwise mutual information, $X$ and $Y$ are two discrete random variables, $x$ and $y$ are realisations of $X$ and $Y$ respectively and $p_X(x)$ and $p_Y(y)$ are the probability mass functions of $X$ and $Y$. The concept of difference of pmi between a realisation of a random variable and its complement is also used:\n",
    "\\begin{align}\n",
    "I(\\Delta x;y) = I(x;y) - I(\\bar{x};y)\n",
    "\\end{align}\n",
    "where $\\bar{x}$ is the complement of $x$ in the sample space. $I(\\Delta x;y)$ is a measure of how much y explains x. It can be easily checked that if $I(\\Delta x,y) = 0$, $y$ does not provide any information on $x$ i.e. $p_{X,Y}(x,y) = p_X(x)p_Y(y)$. If $I(\\Delta x;y) > 0$, $y$ explains better $x$ than $\\bar{x}$ i.e. $p_{X|Y}(x|y)>p_{X}(x)$ and $p_{\\bar{X}|Y}(\\bar{x}|y)<p_{\\bar{X}}(\\bar{x})$. Similarly if $I(\\Delta x;y) < 0$, $y$ explains better $\\bar{x}$ than $x$ i.e. $p_{X|Y}(x|y)<p_{X}(x)$ and $p_{\\bar{X}|Y}(\\bar{x}|y)>p_{\\bar{X}}(\\bar{x})$. Changing the base of the log will only change the value of $I$ by a multiplicative constant, so any base can be chosen arbitrarily as long as it is consistent and the units are given (bits for base 2, nats for base $e$,...).\n",
    "\n",
    "The GOR I method <cite data-cite=\"7413522/Y7JA53G9\"></cite> estimates the pmi between a residue and the secondary structure adopted by that residue $I(SS,R)$ from a dataset. It estimates it as:\n",
    "\\begin{align}\n",
    "\\hat{I}(ss;r) = \\log \\frac{C_{SS,R}(ss,r)}{C_{SS}(ss)C_R(r)}\n",
    "\\end{align}\n",
    "where $C_{SS,R}(ss,r)$ is the number of times residues $r$ have secondary structure $ss$ in the dataset. Similarly $C_{SS}(ss)$ is the number of residues taking the secondary structure $ss$ and $C_{R}(r)$ is the number of residues $r$ in the data set. Only  $\\alpha$-helices and $\\beta$-sheets are considered as individual secondary structures and all the other secondary structure are clustered as \"other\". Therefore the alphabet size of $SS$ is $|SS| = 3$. Only the 20 elementary amino acids are considered and the other ones are ignored or binned together into an \"other\" value so $|R| =20$ or $21$ depending on the implementation. \n",
    "\n",
    "Then the pmi of the complement of the secondary structure is estimated i.e.\n",
    "\\begin{align}\n",
    "\\hat{I}(\\bar{ss};r) = \\log \\frac{\\sum_{i \\neq ss}C_{SS,R}(i,r)}{C_R(r)\\sum_{i \\neq ss}C_{SS}(i)}\n",
    "\\end{align}\n",
    "Finally the difference between estimated pmis is computed:\n",
    "\\begin{align}\n",
    "\\hat{I}(\\Delta ss;r) = \\log \\hat{I}(ss;r) - \\hat{I}(\\bar{ss};r)\n",
    "\\end{align}\n",
    "This is equivalent to directly estimating it as:\n",
    "\\begin{align}\n",
    "\\hat{I}(\\Delta ss;r) = \\log \\frac{C_{SS,R}(ss,r)}{\\sum_{i \\neq ss}C_{SS,R}(i,r)} -  \\log \\frac{C_{SS}(ss)}{\\sum_{i \\neq ss}C_{SS}(i)}\n",
    "\\end{align}\n",
    "\n",
    "Once $\\hat{I}(\\Delta ss;r)$ for all the secondary structures $ss$ and for all the residues $r$ is computed, it can be used to predict the secondary structures of other proteins. The secondary structure of residue $r$ will be set to the secondary structure $ss$ with highest $\\hat{I}(\\Delta ss;r)$. \n",
    "\n",
    "GOR I has a limited performance since it does not take into account the influence of neighbouring residues on the secondary structure of a residue. \n",
    "\n",
    "GOR II to V also use information from the neighbouring residues of residue $k$ to predict the rescondary structure of residue $k$. If a window size of $2w+1$ is used, it would be desired to estimate $ I(\\Delta ss_k;r_{k-w}, r_{k-w+1},...,r_{k},...,r_{k+w} )$ . However this cannot be directly estimated from the given datasets since it would require to estimate $|SS|\\times |R|^{2w+1}$ parameters which is $480,000$ for $w=2$. While $I(\\Delta ss_k;r_{k-w},...,r_{k+w})$ could be estimated using classical parametric or non parametric function approximations used in classical statistical inference, the GOR procedure approximates $I(ss_k;r_{k-w},...,r_{k+w})$ by simplifying its chain rule expansion by using independence assumptions.\n",
    "\n",
    "In GOR III the following approximation is used:\n",
    "\\begin{align}\n",
    "I(x;y_1,y_2,...,y_n) &= \\sum_{j=1}^n I(x;y_j|y_1,...,y_{j-1}) \\\\\n",
    "& \\approx I(x;y_1) + \\sum_{j=2}^n I(x;y_j|y_1) \n",
    "\\end{align}\n",
    "This assumes that when conditioned on $y_1$, conditioning on other $y_i$'s does not change the value of the pmi between $x$ and $y_1$.\n",
    "\n",
    "For proteins this translates to \n",
    "\\begin{align}\n",
    "\\hat{I}(\\Delta ss_k;r_{k-w},...,r_{k+w}) \\approx \\hat{I}(\\Delta ss_k;r_k) + \\sum_{j=-w \\\\ j\\neq 0}^w \\hat{I}(\\Delta ss_k;r_{k+j}|r_k) \n",
    "\\end{align}\n",
    "where  $\\hat{I}(\\Delta ss_k;r_k)$ is called the self information and $\\hat{I}(\\Delta ss_k;r_{k+j}|r_k) $ is called the directional information. The self information $\\hat{I}(\\Delta ss_k;r_k)$ is the same term as in GOR I and the directional information $\\hat{I}(\\Delta ss_k;r_{k+j}|r_k) $ simplifies to:\n",
    "\\begin{align}\n",
    "\\hat{I}(\\Delta ss_k;r_{k+j}|r_k) = \\log \\frac{C_{SS_k,R_k,R_{k+j}}(ss,r_k,r_{k+j})}{\\sum_{i \\neq ss}C_{SS_k,R_k,R_{k+j}}(i,r_k,r_{k+j})} -  \\log \\frac{C_{SS_k,R_k}(ss_k,r_k)}{\\sum_{i \\neq ss}C_{SS_k,R_k}(i,r_k)}\n",
    "\\end{align}\n",
    "Once the self information and the directional information have been estimated from the dataset, the secondary structure of residue $r_k$ will be predicted to the $ss$ with highest $\\hat{I}(\\Delta ss_k;r_{k-w},...,r_{k+w})$. \n",
    "\n",
    "In the latest version of GOR V <cite data-cite=\"7413522/8PN2TYVH\"></cite>, they use evolutionary information during the predicting step to increase the accuracy of the secondary structure classifier. The training step remains unchanged i.e. The procedure for the estimation of the mutual information does not include evolutionary information. For each protein in the testing set, they find homologous proteins and they align them using a multiple sequence alignment (MSA) algorithm. For each protein in the alignment they find the pmi for each residue and each secondary structure as in the normal GOR algorithm. They store it in a 3d array $I(seq,i,ss)$ where $seq$ is the sequence number in the MSA alignment, $i$ is the residue position along the sequence and $ss$ is the secondary structure. Then they convert it to a \"probability\" using the formula:\n",
    "\\begin{align}\n",
    "P(seq,i,other) &= \\frac{1}{1+e^{P(seq,i,\\alpha)} + e^{P(seq,i,\\beta)}} \\\\\n",
    "P(seq,i,\\alpha) &= \\frac{e^{P(seq,i,\\alpha)}}{1+e^{P(seq,i,\\alpha)} + e^{P(seq,i,\\beta)}} \\\\\n",
    "P(seq,i,\\beta) &= \\frac{e^{P(seq,i,\\beta)}}{1+e^{P(seq,i,\\alpha)} + e^{P(seq,i,\\beta)}} \\\\\n",
    "\\end{align}\n",
    "\n",
    "This formula was not clearly stated in their paper <cite data-cite=\"7413522/8PN2TYVH\"></cite> and comes from their code that can be found on the website of the authors http://mig.jouy.inra.fr/?q=en/node/85 . This is a heuristic formula and the heuristic\n",
    "\\begin{align}\n",
    "P(seq,i,other) &= \\frac{e^{P(seq,i,other)}}{e^{P(seq,i,other)}+e^{P(seq,i,\\alpha)} + e^{P(seq,i,\\beta)}} \\\\\n",
    "P(seq,i,\\alpha) &= \\frac{e^{P(seq,i,\\alpha)}}{e^{P(seq,i,other)}+e^{P(seq,i,\\alpha)} + e^{P(seq,i,\\beta)}} \\\\\n",
    "P(seq,i,\\beta) &= \\frac{e^{P(seq,i,\\beta)}}{e^{P(seq,i,other)}+e^{P(seq,i,\\alpha)} + e^{P(seq,i,\\beta)}} \\\\\n",
    "\\end{align}\n",
    "would have been more consistent.\n",
    "\n",
    "Once the matrix $P(seq,i,ss)$ is computed, it is averaged over the sequences in the MSA for the positions $i$ where the original protein does not contain a gap in the alignment. Moreover gaps in other sequences are excluded during the averaging. Finally the secondary structure of residue at position $i$ is set to the secondary structure $ss$ that maximises the obtained matrix $<P(i,ss)>$ at row $i$. \n",
    "\n",
    "The implementation of GOR III without evolutionary information and with evolutionary information (using the procedure of GOR V) is given in section [GOR III implementation](#GORIII_i).\n",
    "\n",
    "#### Neural Network and PHD method  <a name=\"NN\"></a>\n",
    "\n",
    "Another option is to train a 1 hidden layer feed forward neural network as a classifier since they have been shown to perform very well on many classification problems. \n",
    "\n",
    "The input of the neural network is a set of successive residues $r_{k-w}, r_{k-w+1},...,r_{k},...,r_{k+w}$ and the output is a \"belief\" (bounded between 0 and 1) of the NN on the secondary structure for each possible value i.e. $y_\\alpha$, $y_\\beta$ and $y_{other}$. Since the input and output are categorical, a 1 hot encoding is used. Moreover to ensure that the output of the output nodes lies between 0 and 1, a softmax activation function $\\sigma (x)$ is used for the output layer. \n",
    "\\begin{align}\n",
    "\\sigma (x) = \\frac{1}{1+e^{-x}}\n",
    "\\end{align}\n",
    "Other monotonic increasing functions bounded between 0 and 1 could be used but the advantage of the softmax function is $\\frac{d}{dx}\\sigma(x) = \\sigma(x)(1-\\sigma(x))$ which is a useful property for the backpropagation during the training of the NN.\n",
    "\n",
    "The training set for the neural network can be computed by sliding a window of size $2w+1$ through the provided data sets and the training can be performed using batch gradient descent. Cross entropy can be used as the loss function but other multiclass classification loss functions can also be used. The cross entropy function is \n",
    "\\begin{align}\n",
    "H(y_{true},y_{pred}) = \\sum_i y_{true,i} \\log \\tilde{y}_{pred,i}\n",
    "\\end{align}\n",
    "\n",
    "Where $y_{pred}$ is the output of the NN, $\\tilde{y}_{pred} = y_{pred}/\\sum_i y_{pred,i}$ is the normalised output of the NN and $y_{true}$ is the one hot encoding of the true secondary structure. \n",
    "\n",
    "The implementation of this NN is given in section [NN implementation](#NN_i).\n",
    "\n",
    "The first neural network classifier which included evolutionary information was the PHD method <cite data-cite=\"7413522/DA7L73P5\"></cite>. For each protein in the training set, they find homologous proteins. They align them using a multiple sequence alignment (MSA) algorithm and then they compute a profile for each residue in the original protein. This is the frequency of occurrence of each of the 20 amino acids at on position in the computed alignment. Then this is used as the input of the NN instead of the one hot encoding of the residue. In the PHD method, 2 NN are serially concatenated, they add an extra input which is the conservation weight that gives a higher weight to residues that are more conserved. They also train multiple NN with different architectures and hyperparameters and combine their output to increase their performance.\n",
    "\n",
    "In [NN implementation](#NN_i) evolutionary information is added to the 1 hidden layer NN in the same way as in the PHD method.\n",
    "\n",
    "#### Protein class prediction  <a name=\"CATH\"></a>\n",
    "There exist multiple databases that classify proteins according to their tertiary structure and the two main ones are CATH and SCOP. Proteins are classified at different levels that have different names depending on the database. The lowest level in CATH is the class of the protein which is either $\\alpha$, $\\beta$, $\\alpha + \\beta$ or None. The class depends on the secondary structure content of the core of the protein. The class of 90% of the proteins is determined automatically but 10% of them are still classified manually when the automatic classification gives ambiguous results <cite data-cite=\"7413522/JWTFEC2N\"></cite>.\n",
    "\n",
    "Training a classifier to predict the CATH class of proteins with unknown secondary structure will have a limited performance for two main reasons. Firstly the accuracy of the secondary structure prediction will be below 80% on average which will impact the accuracy of the CATH class classifier since it will need to determine the secondary structure during the classification process. Secondly, 10% of the proteins are classified manually therefore some inconsistencies will be present in the database.\n",
    "\n",
    "In this assignment, the secondary structure is determined using either GOR III or the NN predictions. It is compressed into 2 numbers: the percentage of $\\alpha$ helices and the percentage of $\\beta$ sheets in the sequence. Given these two quantities a classifier predicts the CATH class of the protein. Three classifiers were experimented: logistic regression, support vector machime (SVM) with linear kernel and SVM with radial basis function kernel. The first two are linear and the second one is non linear. \n",
    "\n",
    "In the [Results](#Results) section the performance of these three classifiers is compared when they are trained on the experimental data from STRIDE and when they are trained with the output of the secondary structure prediction algorithm.\n",
    "\n",
    "During the training of these multiclass classifiers (more than 2 classes) a one-versus-rest (OvR) procedure was implemented. A binary classifier was trained for each class where all the proteins from other classes were binned together to the second class. Then the class of a protein is predicted as the class of the classifier with the highest score. While this is a heuristic procedure and there exist more advanced techniques, this is one of the fastest.\n",
    "\n",
    "### Implementation  <a name=\"Methods\"></a>\n",
    "\n",
    "#### BLAST and CLUSTAL OMEGA  <a name=\"BLAST\"></a>\n",
    "\n",
    "A set of homologous proteins for each sequence given in the STRIDE data set were found using the BLAST algorithm. Since this had to be implemented for 493 proteins, it could not be done manually and had to be done automatically. While this could in theory be done on a local machine, it requires downloading the whole data set used in the BLAST search which is very large (for instance UniRef90 is 36GB) and it may be very slow. A python API from biopython exists to connect to BLAST from the NCBI website however I had several issues to make it run on my laptop. Therefore I decided to use a python API made with Selenium by Jan van den Schilden that connects to the BLAST version from Uniprot. The API can be found on the Github page https://github.com/janvandenschilden/biodata-mining/tree/master/workshop. The script doing all the BLAST queries can be found in the BLAST_and_MSA folder under the name BLAST_script.py. The folder BLAST_and_MSA also contains the API from Jan van den Schilden. The BLAST results can be found in the folder fasta_files.\n",
    "\n",
    "The BLAST search was performed the Uniref90 database to avoid an overrepresentation of some similar proteins. The maximum Evalue tolerated during the search was $10^{-4}$ to ensure that the obtained proteins were indeed homologous to the query sequence. The aligment allowed gaps and used the Blosum62 matrix (the gap penalty cannot be modified by the user on the Uniprot website). The maximum number of hits was set to $1000$ to avoid working with too much data. The sequence of the original sequence was then added to the BLAST result fasta file.\n",
    "\n",
    "Many MSA algorithms exist and each of them have their pros and cons. For this assignment, it was decided to use Clustalw since it is one of the fastest. It was first run locally with biopython with the following code (that requires Clustalw to be installed and added to the PATH):"
   ]
  },
  {
   "cell_type": "code",
   "execution_count": 55,
   "metadata": {},
   "outputs": [],
   "source": [
    "from Bio.Align.Applications import ClustalwCommandline\n",
    "import os.path"
   ]
  },
  {
   "cell_type": "code",
   "execution_count": 56,
   "metadata": {},
   "outputs": [],
   "source": [
    "def get_training_sequences(fasta_file):\n",
    "    f = open(fasta_file, \"r\")\n",
    "    fl = f.readlines()\n",
    "    f.close()\n",
    "    sequences = []\n",
    "    sequences_name = []\n",
    "    prot_number = 0\n",
    "    for line in fl:\n",
    "        if line[0] == \">\":\n",
    "            sequences_name.append(line[1:-1])\n",
    "            if (prot_number!=0): sequences.append(my_seq)\n",
    "            my_seq = line\n",
    "            prot_number+=1\n",
    "        else:\n",
    "            my_seq+=line\n",
    "    sequences.append(my_seq)\n",
    "    return sequences_name,sequences"
   ]
  },
  {
   "cell_type": "code",
   "execution_count": 57,
   "metadata": {},
   "outputs": [
    {
     "name": "stdout",
     "output_type": "stream",
     "text": [
      "performing MSA for 0 1w0n\n"
     ]
    },
    {
     "ename": "KeyboardInterrupt",
     "evalue": "",
     "output_type": "error",
     "traceback": [
      "\u001b[0;31m---------------------------------------------------------------------------\u001b[0m",
      "\u001b[0;31mKeyboardInterrupt\u001b[0m                         Traceback (most recent call last)",
      "\u001b[0;32m<ipython-input-57-3019a58577b8>\u001b[0m in \u001b[0;36m<module>\u001b[0;34m\u001b[0m\n\u001b[1;32m     11\u001b[0m         \u001b[0mprint\u001b[0m\u001b[0;34m(\u001b[0m\u001b[0;34m\"performing MSA for\"\u001b[0m\u001b[0;34m,\u001b[0m \u001b[0mi\u001b[0m\u001b[0;34m,\u001b[0m\u001b[0mPDB_code\u001b[0m\u001b[0;34m)\u001b[0m\u001b[0;34m\u001b[0m\u001b[0;34m\u001b[0m\u001b[0m\n\u001b[1;32m     12\u001b[0m         \u001b[0mcline\u001b[0m \u001b[0;34m=\u001b[0m \u001b[0mClustalwCommandline\u001b[0m\u001b[0;34m(\u001b[0m\u001b[0;34m\"clustalw2\"\u001b[0m\u001b[0;34m,\u001b[0m \u001b[0minfile\u001b[0m\u001b[0;34m=\u001b[0m\u001b[0mpath_fasta\u001b[0m\u001b[0;34m+\u001b[0m\u001b[0mPDB_code\u001b[0m\u001b[0;34m+\u001b[0m\u001b[0;34m\".fasta\"\u001b[0m\u001b[0;34m,\u001b[0m\u001b[0moutfile\u001b[0m\u001b[0;34m=\u001b[0m\u001b[0mpath_MSA\u001b[0m\u001b[0;34m+\u001b[0m\u001b[0mPDB_code\u001b[0m\u001b[0;34m+\u001b[0m\u001b[0;34m\".aln\"\u001b[0m\u001b[0;34m)\u001b[0m\u001b[0;34m\u001b[0m\u001b[0;34m\u001b[0m\u001b[0m\n\u001b[0;32m---> 13\u001b[0;31m         \u001b[0mcline\u001b[0m\u001b[0;34m(\u001b[0m\u001b[0;34m)\u001b[0m\u001b[0;34m\u001b[0m\u001b[0;34m\u001b[0m\u001b[0m\n\u001b[0m",
      "\u001b[0;32m/usr/local/lib/python3.7/site-packages/Bio/Application/__init__.py\u001b[0m in \u001b[0;36m__call__\u001b[0;34m(self, stdin, stdout, stderr, cwd, env)\u001b[0m\n\u001b[1;32m    510\u001b[0m                                          shell=use_shell)\n\u001b[1;32m    511\u001b[0m         \u001b[0;31m# Use .communicate as can get deadlocks with .wait(), see Bug 2804\u001b[0m\u001b[0;34m\u001b[0m\u001b[0;34m\u001b[0m\u001b[0;34m\u001b[0m\u001b[0m\n\u001b[0;32m--> 512\u001b[0;31m         \u001b[0mstdout_str\u001b[0m\u001b[0;34m,\u001b[0m \u001b[0mstderr_str\u001b[0m \u001b[0;34m=\u001b[0m \u001b[0mchild_process\u001b[0m\u001b[0;34m.\u001b[0m\u001b[0mcommunicate\u001b[0m\u001b[0;34m(\u001b[0m\u001b[0mstdin\u001b[0m\u001b[0;34m)\u001b[0m\u001b[0;34m\u001b[0m\u001b[0;34m\u001b[0m\u001b[0m\n\u001b[0m\u001b[1;32m    513\u001b[0m         \u001b[0;32mif\u001b[0m \u001b[0;32mnot\u001b[0m \u001b[0mstdout\u001b[0m\u001b[0;34m:\u001b[0m\u001b[0;34m\u001b[0m\u001b[0;34m\u001b[0m\u001b[0m\n\u001b[1;32m    514\u001b[0m             \u001b[0;32massert\u001b[0m \u001b[0;32mnot\u001b[0m \u001b[0mstdout_str\u001b[0m\u001b[0;34m,\u001b[0m \u001b[0mstdout_str\u001b[0m\u001b[0;34m\u001b[0m\u001b[0;34m\u001b[0m\u001b[0m\n",
      "\u001b[0;32m/usr/local/Cellar/python/3.7.7/Frameworks/Python.framework/Versions/3.7/lib/python3.7/subprocess.py\u001b[0m in \u001b[0;36mcommunicate\u001b[0;34m(self, input, timeout)\u001b[0m\n\u001b[1;32m    962\u001b[0m \u001b[0;34m\u001b[0m\u001b[0m\n\u001b[1;32m    963\u001b[0m             \u001b[0;32mtry\u001b[0m\u001b[0;34m:\u001b[0m\u001b[0;34m\u001b[0m\u001b[0;34m\u001b[0m\u001b[0m\n\u001b[0;32m--> 964\u001b[0;31m                 \u001b[0mstdout\u001b[0m\u001b[0;34m,\u001b[0m \u001b[0mstderr\u001b[0m \u001b[0;34m=\u001b[0m \u001b[0mself\u001b[0m\u001b[0;34m.\u001b[0m\u001b[0m_communicate\u001b[0m\u001b[0;34m(\u001b[0m\u001b[0minput\u001b[0m\u001b[0;34m,\u001b[0m \u001b[0mendtime\u001b[0m\u001b[0;34m,\u001b[0m \u001b[0mtimeout\u001b[0m\u001b[0;34m)\u001b[0m\u001b[0;34m\u001b[0m\u001b[0;34m\u001b[0m\u001b[0m\n\u001b[0m\u001b[1;32m    965\u001b[0m             \u001b[0;32mexcept\u001b[0m \u001b[0mKeyboardInterrupt\u001b[0m\u001b[0;34m:\u001b[0m\u001b[0;34m\u001b[0m\u001b[0;34m\u001b[0m\u001b[0m\n\u001b[1;32m    966\u001b[0m                 \u001b[0;31m# https://bugs.python.org/issue25942\u001b[0m\u001b[0;34m\u001b[0m\u001b[0;34m\u001b[0m\u001b[0;34m\u001b[0m\u001b[0m\n",
      "\u001b[0;32m/usr/local/Cellar/python/3.7.7/Frameworks/Python.framework/Versions/3.7/lib/python3.7/subprocess.py\u001b[0m in \u001b[0;36m_communicate\u001b[0;34m(self, input, endtime, orig_timeout)\u001b[0m\n\u001b[1;32m   1713\u001b[0m                             'failed to raise TimeoutExpired.')\n\u001b[1;32m   1714\u001b[0m \u001b[0;34m\u001b[0m\u001b[0m\n\u001b[0;32m-> 1715\u001b[0;31m                     \u001b[0mready\u001b[0m \u001b[0;34m=\u001b[0m \u001b[0mselector\u001b[0m\u001b[0;34m.\u001b[0m\u001b[0mselect\u001b[0m\u001b[0;34m(\u001b[0m\u001b[0mtimeout\u001b[0m\u001b[0;34m)\u001b[0m\u001b[0;34m\u001b[0m\u001b[0;34m\u001b[0m\u001b[0m\n\u001b[0m\u001b[1;32m   1716\u001b[0m                     \u001b[0mself\u001b[0m\u001b[0;34m.\u001b[0m\u001b[0m_check_timeout\u001b[0m\u001b[0;34m(\u001b[0m\u001b[0mendtime\u001b[0m\u001b[0;34m,\u001b[0m \u001b[0morig_timeout\u001b[0m\u001b[0;34m,\u001b[0m \u001b[0mstdout\u001b[0m\u001b[0;34m,\u001b[0m \u001b[0mstderr\u001b[0m\u001b[0;34m)\u001b[0m\u001b[0;34m\u001b[0m\u001b[0;34m\u001b[0m\u001b[0m\n\u001b[1;32m   1717\u001b[0m \u001b[0;34m\u001b[0m\u001b[0m\n",
      "\u001b[0;32m/usr/local/Cellar/python/3.7.7/Frameworks/Python.framework/Versions/3.7/lib/python3.7/selectors.py\u001b[0m in \u001b[0;36mselect\u001b[0;34m(self, timeout)\u001b[0m\n\u001b[1;32m    413\u001b[0m         \u001b[0mready\u001b[0m \u001b[0;34m=\u001b[0m \u001b[0;34m[\u001b[0m\u001b[0;34m]\u001b[0m\u001b[0;34m\u001b[0m\u001b[0;34m\u001b[0m\u001b[0m\n\u001b[1;32m    414\u001b[0m         \u001b[0;32mtry\u001b[0m\u001b[0;34m:\u001b[0m\u001b[0;34m\u001b[0m\u001b[0;34m\u001b[0m\u001b[0m\n\u001b[0;32m--> 415\u001b[0;31m             \u001b[0mfd_event_list\u001b[0m \u001b[0;34m=\u001b[0m \u001b[0mself\u001b[0m\u001b[0;34m.\u001b[0m\u001b[0m_selector\u001b[0m\u001b[0;34m.\u001b[0m\u001b[0mpoll\u001b[0m\u001b[0;34m(\u001b[0m\u001b[0mtimeout\u001b[0m\u001b[0;34m)\u001b[0m\u001b[0;34m\u001b[0m\u001b[0;34m\u001b[0m\u001b[0m\n\u001b[0m\u001b[1;32m    416\u001b[0m         \u001b[0;32mexcept\u001b[0m \u001b[0mInterruptedError\u001b[0m\u001b[0;34m:\u001b[0m\u001b[0;34m\u001b[0m\u001b[0;34m\u001b[0m\u001b[0m\n\u001b[1;32m    417\u001b[0m             \u001b[0;32mreturn\u001b[0m \u001b[0mready\u001b[0m\u001b[0;34m\u001b[0m\u001b[0;34m\u001b[0m\u001b[0m\n",
      "\u001b[0;31mKeyboardInterrupt\u001b[0m: "
     ]
    }
   ],
   "source": [
    "file_training_prot = \"training_prot.fasta\"\n",
    "path_fasta = \"../fasta_files/\"\n",
    "path_MSA = \"./\"\n",
    "\n",
    "sequences_name,sequences = get_training_sequences(path_fasta+file_training_prot)\n",
    "for i,PDB_code in enumerate(sequences_name):\n",
    "    if not os.path.isfile(path_fasta+PDB_code+\".fasta\"): \n",
    "        print(\"NO fasta file found for \",i,PDB_code)\n",
    "        continue\n",
    "    if not os.path.isfile(path_MSA+PDB_code+\".aln\"):\n",
    "        print(\"performing MSA for\", i,PDB_code)\n",
    "        cline = ClustalwCommandline(\"clustalw2\", infile=path_fasta+PDB_code+\".fasta\",outfile=path_MSA+PDB_code+\".aln\")\n",
    "        cline()"
   ]
  },
  {
   "cell_type": "markdown",
   "metadata": {},
   "source": [
    "However it was slow, therefore after aligning 100 sequences, I decided to use again the API from Jan van den Schilden that also connects to the ClustalOmega version from the EBI website. The script used can be found on the BLAST_and_MSA folder under the name CLUSTAL_script.py. However some files excideed the maximum size allowed by the EBI server and it was talking too long to align them on my laptop. This is why the MSA of 9 proteins (their PDB codes are 1jcd, 1j34, 3i4o, 3ku3, 1whi, 1svf, 1g6u, 1t8k and 3kpe) was not computed. They could have been BLASTed again with a lower maximum hit number but this was not done because of time issues. The computed MSAs can be found in the folder MSA_files. The MSAs computed locally with Clustalw have the aln format and those computed with the EBI server have a fasta format.\n",
    "\n",
    "The profiles of MSA (used for the neural network) were then computed with the following code:"
   ]
  },
  {
   "cell_type": "code",
   "execution_count": 58,
   "metadata": {},
   "outputs": [],
   "source": [
    "import numpy as np\n",
    "import pandas as pd\n",
    "from Bio import AlignIO"
   ]
  },
  {
   "cell_type": "code",
   "execution_count": 59,
   "metadata": {},
   "outputs": [
    {
     "name": "stdout",
     "output_type": "stream",
     "text": [
      "0 1w0n\n",
      "1 2gpi\n",
      "2 1vbw\n"
     ]
    },
    {
     "ename": "KeyboardInterrupt",
     "evalue": "",
     "output_type": "error",
     "traceback": [
      "\u001b[0;31m---------------------------------------------------------------------------\u001b[0m",
      "\u001b[0;31mKeyboardInterrupt\u001b[0m                         Traceback (most recent call last)",
      "\u001b[0;32m<ipython-input-59-988821451814>\u001b[0m in \u001b[0;36m<module>\u001b[0;34m\u001b[0m\n\u001b[1;32m     57\u001b[0m \u001b[0;32mfor\u001b[0m \u001b[0mi\u001b[0m\u001b[0;34m,\u001b[0m\u001b[0mPDB_code\u001b[0m \u001b[0;32min\u001b[0m \u001b[0menumerate\u001b[0m\u001b[0;34m(\u001b[0m\u001b[0msequences_name\u001b[0m\u001b[0;34m)\u001b[0m\u001b[0;34m:\u001b[0m\u001b[0;34m\u001b[0m\u001b[0;34m\u001b[0m\u001b[0m\n\u001b[1;32m     58\u001b[0m     \u001b[0mprint\u001b[0m\u001b[0;34m(\u001b[0m\u001b[0mi\u001b[0m\u001b[0;34m,\u001b[0m\u001b[0mPDB_code\u001b[0m\u001b[0;34m)\u001b[0m\u001b[0;34m\u001b[0m\u001b[0;34m\u001b[0m\u001b[0m\n\u001b[0;32m---> 59\u001b[0;31m     \u001b[0mMSA_file_found\u001b[0m\u001b[0;34m,\u001b[0m \u001b[0mPMM\u001b[0m \u001b[0;34m=\u001b[0m \u001b[0mget_PMM_from_MSA_alignment\u001b[0m\u001b[0;34m(\u001b[0m\u001b[0mpath_MSA\u001b[0m\u001b[0;34m,\u001b[0m\u001b[0mPDB_code\u001b[0m\u001b[0;34m)\u001b[0m\u001b[0;34m\u001b[0m\u001b[0;34m\u001b[0m\u001b[0m\n\u001b[0m\u001b[1;32m     60\u001b[0m     \u001b[0;32mif\u001b[0m \u001b[0mMSA_file_found\u001b[0m \u001b[0;34m==\u001b[0m \u001b[0;32mFalse\u001b[0m \u001b[0;34m:\u001b[0m\u001b[0;34m\u001b[0m\u001b[0;34m\u001b[0m\u001b[0m\n\u001b[1;32m     61\u001b[0m         \u001b[0mprint\u001b[0m\u001b[0;34m(\u001b[0m\u001b[0mi\u001b[0m\u001b[0;34m,\u001b[0m\u001b[0mPDB_code\u001b[0m\u001b[0;34m,\u001b[0m \u001b[0;34m\"MSA not ready\"\u001b[0m\u001b[0;34m)\u001b[0m\u001b[0;34m\u001b[0m\u001b[0;34m\u001b[0m\u001b[0m\n",
      "\u001b[0;32m<ipython-input-59-988821451814>\u001b[0m in \u001b[0;36mget_PMM_from_MSA_alignment\u001b[0;34m(path, PDB_code)\u001b[0m\n\u001b[1;32m     36\u001b[0m     \u001b[0mlist_proteins_PMM\u001b[0m \u001b[0;34m=\u001b[0m \u001b[0;34m[\u001b[0m\u001b[0;34m]\u001b[0m\u001b[0;34m\u001b[0m\u001b[0;34m\u001b[0m\u001b[0m\n\u001b[1;32m     37\u001b[0m     \u001b[0;32mfor\u001b[0m \u001b[0mi\u001b[0m \u001b[0;32min\u001b[0m \u001b[0mrange\u001b[0m\u001b[0;34m(\u001b[0m\u001b[0mlen\u001b[0m\u001b[0;34m(\u001b[0m\u001b[0malign\u001b[0m\u001b[0;34m)\u001b[0m\u001b[0;34m)\u001b[0m\u001b[0;34m:\u001b[0m\u001b[0;34m\u001b[0m\u001b[0;34m\u001b[0m\u001b[0m\n\u001b[0;32m---> 38\u001b[0;31m         \u001b[0;32mif\u001b[0m \u001b[0mpercentage_identity\u001b[0m\u001b[0;34m(\u001b[0m\u001b[0malign\u001b[0m\u001b[0;34m[\u001b[0m\u001b[0mmain_prot\u001b[0m\u001b[0;34m]\u001b[0m\u001b[0;34m,\u001b[0m\u001b[0malign\u001b[0m\u001b[0;34m[\u001b[0m\u001b[0mi\u001b[0m\u001b[0;34m]\u001b[0m\u001b[0;34m,\u001b[0m\u001b[0mlength_main_prot\u001b[0m\u001b[0;34m)\u001b[0m \u001b[0;34m<=\u001b[0m \u001b[0mTHRESHOLD\u001b[0m \u001b[0;32mand\u001b[0m \u001b[0mi\u001b[0m\u001b[0;34m!=\u001b[0m\u001b[0mmain_prot\u001b[0m\u001b[0;34m:\u001b[0m\u001b[0;34m\u001b[0m\u001b[0;34m\u001b[0m\u001b[0m\n\u001b[0m\u001b[1;32m     39\u001b[0m             \u001b[0mlist_proteins_PMM\u001b[0m\u001b[0;34m.\u001b[0m\u001b[0mappend\u001b[0m\u001b[0;34m(\u001b[0m\u001b[0mi\u001b[0m\u001b[0;34m)\u001b[0m\u001b[0;34m\u001b[0m\u001b[0;34m\u001b[0m\u001b[0m\n\u001b[1;32m     40\u001b[0m \u001b[0;34m\u001b[0m\u001b[0m\n",
      "\u001b[0;32m<ipython-input-59-988821451814>\u001b[0m in \u001b[0;36mpercentage_identity\u001b[0;34m(seq_main_prot, seq, length_main_prot)\u001b[0m\n\u001b[1;32m     10\u001b[0m     \u001b[0mcounter_identities\u001b[0m \u001b[0;34m=\u001b[0m \u001b[0;36m0\u001b[0m\u001b[0;34m\u001b[0m\u001b[0;34m\u001b[0m\u001b[0m\n\u001b[1;32m     11\u001b[0m     \u001b[0;32mfor\u001b[0m \u001b[0mi\u001b[0m \u001b[0;32min\u001b[0m \u001b[0mrange\u001b[0m\u001b[0;34m(\u001b[0m\u001b[0mlen\u001b[0m\u001b[0;34m(\u001b[0m\u001b[0mseq_main_prot\u001b[0m\u001b[0;34m)\u001b[0m\u001b[0;34m)\u001b[0m\u001b[0;34m:\u001b[0m\u001b[0;34m\u001b[0m\u001b[0;34m\u001b[0m\u001b[0m\n\u001b[0;32m---> 12\u001b[0;31m         \u001b[0;32mif\u001b[0m \u001b[0mseq_main_prot\u001b[0m\u001b[0;34m[\u001b[0m\u001b[0mi\u001b[0m\u001b[0;34m]\u001b[0m \u001b[0;34m!=\u001b[0m \u001b[0;34m'-'\u001b[0m \u001b[0;32mand\u001b[0m \u001b[0mseq_main_prot\u001b[0m\u001b[0;34m[\u001b[0m\u001b[0mi\u001b[0m\u001b[0;34m]\u001b[0m \u001b[0;34m==\u001b[0m \u001b[0mseq\u001b[0m\u001b[0;34m[\u001b[0m\u001b[0mi\u001b[0m\u001b[0;34m]\u001b[0m\u001b[0;34m:\u001b[0m\u001b[0;34m\u001b[0m\u001b[0;34m\u001b[0m\u001b[0m\n\u001b[0m\u001b[1;32m     13\u001b[0m             \u001b[0mcounter_identities\u001b[0m \u001b[0;34m+=\u001b[0m\u001b[0;36m1\u001b[0m\u001b[0;34m\u001b[0m\u001b[0;34m\u001b[0m\u001b[0m\n\u001b[1;32m     14\u001b[0m     \u001b[0;32mreturn\u001b[0m\u001b[0;34m(\u001b[0m\u001b[0mcounter_identities\u001b[0m\u001b[0;34m/\u001b[0m\u001b[0mlength_main_prot\u001b[0m\u001b[0;34m)\u001b[0m\u001b[0;34m\u001b[0m\u001b[0;34m\u001b[0m\u001b[0m\n",
      "\u001b[0;32m/usr/local/lib/python3.7/site-packages/Bio/SeqRecord.py\u001b[0m in \u001b[0;36m__getitem__\u001b[0;34m(self, index)\u001b[0m\n\u001b[1;32m    453\u001b[0m             \u001b[0;31m# do not really apply to a single character.  However, should\u001b[0m\u001b[0;34m\u001b[0m\u001b[0;34m\u001b[0m\u001b[0;34m\u001b[0m\u001b[0m\n\u001b[1;32m    454\u001b[0m             \u001b[0;31m# we try and expose any per-letter-annotation here?  If so how?\u001b[0m\u001b[0;34m\u001b[0m\u001b[0;34m\u001b[0m\u001b[0;34m\u001b[0m\u001b[0m\n\u001b[0;32m--> 455\u001b[0;31m             \u001b[0;32mreturn\u001b[0m \u001b[0mself\u001b[0m\u001b[0;34m.\u001b[0m\u001b[0mseq\u001b[0m\u001b[0;34m[\u001b[0m\u001b[0mindex\u001b[0m\u001b[0;34m]\u001b[0m\u001b[0;34m\u001b[0m\u001b[0;34m\u001b[0m\u001b[0m\n\u001b[0m\u001b[1;32m    456\u001b[0m         \u001b[0;32melif\u001b[0m \u001b[0misinstance\u001b[0m\u001b[0;34m(\u001b[0m\u001b[0mindex\u001b[0m\u001b[0;34m,\u001b[0m \u001b[0mslice\u001b[0m\u001b[0;34m)\u001b[0m\u001b[0;34m:\u001b[0m\u001b[0;34m\u001b[0m\u001b[0;34m\u001b[0m\u001b[0m\n\u001b[1;32m    457\u001b[0m             \u001b[0;32mif\u001b[0m \u001b[0mself\u001b[0m\u001b[0;34m.\u001b[0m\u001b[0mseq\u001b[0m \u001b[0;32mis\u001b[0m \u001b[0;32mNone\u001b[0m\u001b[0;34m:\u001b[0m\u001b[0;34m\u001b[0m\u001b[0;34m\u001b[0m\u001b[0m\n",
      "\u001b[0;31mKeyboardInterrupt\u001b[0m: "
     ]
    }
   ],
   "source": [
    "list_aa = ['A','R','N','D','C','Q','E','G','H','I','L','K','M','F','P','S','T','W','Y','V','B','Z','J','X']\n",
    "list_aa_3_letters = ['ALA','ARG','ASN','ASP','CYS', 'GLN','GLU','GLY','HIS','ILE','LEU','LYS','MET','PHE',\n",
    "                     'PRO','SER','THR','TRP','TYR','VAL','XXX']\n",
    "THRESHOLD = 1.0\n",
    "file_training_prot = \"training_prot.fasta\"\n",
    "path_fasta = \"../fasta_files/\"\n",
    "path_MSA = \"../MSA_files/\"\n",
    "\n",
    "def percentage_identity(seq_main_prot,seq,length_main_prot):\n",
    "    counter_identities = 0\n",
    "    for i in range(len(seq_main_prot)):\n",
    "        if seq_main_prot[i] != '-' and seq_main_prot[i] == seq[i]:\n",
    "            counter_identities +=1\n",
    "    return(counter_identities/length_main_prot)\n",
    "\n",
    "def get_PMM_from_MSA_alignment(path,PDB_code):\n",
    "    if os.path.isfile(path+PDB_code+\".aln\"):\n",
    "        align = AlignIO.read(path+PDB_code+\".aln\", \"clustal\")\n",
    "    elif os.path.isfile(path+PDB_code+\"_Clustalomega.fasta\"):\n",
    "        align = AlignIO.read(path+PDB_code+\"_Clustalomega.fasta\", \"clustal\")\n",
    "    else: return False,False\n",
    "\n",
    "    #Finds the row position of the main protein in the MSA\n",
    "    prot_name = PDB_code\n",
    "    for i in range(len(align)):\n",
    "        if align[i].id == prot_name:\n",
    "            main_prot = i\n",
    "            break\n",
    "\n",
    "    #Computes the length of the main protein\n",
    "    length_main_prot = 0\n",
    "    for i in range(len(align[main_prot])):\n",
    "        if align[main_prot][i]!= \"-\":length_main_prot+=1\n",
    "\n",
    "    #Finds the list of proteins in the MSA that have less than THRESHOLD percentage of identity with the main protein\n",
    "    list_proteins_PMM = []\n",
    "    for i in range(len(align)):\n",
    "        if percentage_identity(align[main_prot],align[i],length_main_prot) <= THRESHOLD and i!=main_prot:\n",
    "            list_proteins_PMM.append(i)\n",
    "\n",
    "\n",
    "    #Computes the profile\n",
    "    PMM = np.zeros((length_main_prot,len(list_aa)))\n",
    "    res = 0\n",
    "    for i in range(len(align[main_prot])):\n",
    "        if align[main_prot][i]!= \"-\":\n",
    "            for j in list_proteins_PMM:\n",
    "                if align[j][i]!= \"-\": PMM[res,list_aa.index(align[j][i])]+=1\n",
    "                else: PMM[res, len(list_aa)-1] += 1 #Gaps are counted as unknown amino acid\n",
    "            res+=1\n",
    "    for i in range(len(list_aa)):\n",
    "        if (np.sum(PMM[:,i])!=0) : PMM[:,i]/=np.sum(PMM[:,i])\n",
    "    return True, PMM \n",
    "\n",
    "sequences_name,sequences = get_training_sequences(path_fasta+file_training_prot)\n",
    "list_PMM_df = []\n",
    "for i,PDB_code in enumerate(sequences_name):\n",
    "    print(i,PDB_code)\n",
    "    MSA_file_found, PMM = get_PMM_from_MSA_alignment(path_MSA,PDB_code)\n",
    "    if MSA_file_found == False : \n",
    "        print(i,PDB_code, \"MSA not ready\")\n",
    "        continue\n",
    "\n",
    "    #Merge together special residues\n",
    "    PMM[:,20] = np.sum(PMM[:,20:],axis=1)\n",
    "    PMM = PMM[:,:21]\n",
    "    \n",
    "    #Create dataframe\n",
    "    PMM_df =  pd.DataFrame(PMM,columns=list_aa_3_letters)\n",
    "\n",
    "    #Reformats sequence to remove its name and change aa code from 1 letter to 3 letters and set all the not essential aa to XXX\n",
    "    sequence_list = []\n",
    "    start_seq = False\n",
    "    for character in sequences[i]:\n",
    "        if character == \"\\n\": start_seq = True\n",
    "        elif start_seq: \n",
    "            if character not in list_aa:\n",
    "                sequence_list.append('XXX')\n",
    "            else:\n",
    "                if list_aa.index(character) >=len(list_aa_3_letters)-1: #Not elementary a.a\n",
    "                    sequence_list.append('XXX')\n",
    "                else:\n",
    "                    sequence_list.append(list_aa_3_letters[list_aa.index(character)])\n",
    "\n",
    "    PMM_df.insert(0, \"Residue\",sequence_list, True)\n",
    "    PMM_df.insert(0, \"PDB_code\", [PDB_code for j in sequence_list], True)\n",
    "    list_PMM_df.append(PMM_df)\n",
    "result = pd.concat(list_PMM_df)\n",
    "result.to_csv('profiles.tsv', sep = '\\t', index = False)"
   ]
  },
  {
   "cell_type": "markdown",
   "metadata": {},
   "source": [
    "The code takes about 10min to run but the result is already stored as profiles_train.tsv in the profiles folder.\n",
    "\n",
    "#### LOAD files  <a name=\"Methods\"></a>\n",
    "The input data sets as well as the profiles can be loaded with the following code:"
   ]
  },
  {
   "cell_type": "code",
   "execution_count": 60,
   "metadata": {},
   "outputs": [],
   "source": [
    "import tensorflow as tf\n",
    "import matplotlib.pyplot as plt\n",
    "from sklearn import svm\n",
    "from sklearn.linear_model import LogisticRegression"
   ]
  },
  {
   "cell_type": "code",
   "execution_count": 61,
   "metadata": {},
   "outputs": [],
   "source": [
    "np.random.seed(1337) #Ensures reproducibility"
   ]
  },
  {
   "cell_type": "code",
   "execution_count": 62,
   "metadata": {},
   "outputs": [],
   "source": [
    "#List of global variables\n",
    "\n",
    "list_amino_acids = ['ALA','ARG','ASN','ASP','CYS', 'GLN','GLU','GLY','HIS','ILE','LEU','LYS','MET','PHE','PRO',\n",
    "                    'SER','THR','TRP','TYR','VAL']\n",
    "list_amino_acids_1_letter = ['A','R','N','D','C','Q','E','G','H','I','L','K','M','F','P','S','T','W','Y','V']\n",
    "list_secondary_structures = ['Helix', 'Beta', 'Coil','Other']\n",
    "list_protein_families = ['Alpha', 'Beta', 'Alpha/beta', 'None']\n",
    "\n",
    "fpath_cath = '../inputData/cath_info.txt'\n",
    "fpath_dssp = '../inputData/dssp_info.txt'\n",
    "fpath_stride = '../inputData/stride_info.txt'\n",
    "fpath_profile_training = \"../profiles/profiles_train.tsv\"\n",
    "fpath_profile_test = \"../profiles/profiles_test.tsv\"\n",
    "path_MSA = \"../MSA_files/\"\n",
    "w = 8 # window size: look at w a.a. on the left and w a.a. on the right so effectively the true window size is 2*w+1\n",
    "\n",
    "MIN_LENGTH_ALPHA = 3 #Used if filtering option used druing the prediction\n",
    "MIN_LENGTH_BETA = 3"
   ]
  },
  {
   "cell_type": "code",
   "execution_count": 63,
   "metadata": {},
   "outputs": [],
   "source": [
    "#Functions used to change the format of the input data, they are used to name to given columns and add extra columns\n",
    "def change_list_to_dic(my_list):\n",
    "    dic = {}\n",
    "    for i in range(len(my_list)):\n",
    "        dic[my_list[i]] = int(i)\n",
    "    return(dic)\n",
    "\n",
    "def change_format_cath(df):\n",
    "    df.columns = ['PDB_code', 'PDB_chain_code', 'protein_family']\n",
    "    dic_protein_families = change_list_to_dic(list_protein_families)\n",
    "    df['protein_family_index'] = df['protein_family'].map(dic_protein_families)\n",
    "    return df\n",
    "    \n",
    "def change_format_dssp_stride(df):\n",
    "    df.columns = ['PDB_code', 'PDB_chain_code', 'PDB_seq_code', 'residue_name', 'secondary_structure']\n",
    "\n",
    "    list_protein_names = pd.unique(df['PDB_code'])\n",
    "    dic_protein_names = change_list_to_dic(list_protein_names)\n",
    "    df['protein_number'] = df['PDB_code'].map(dic_protein_names)\n",
    "\n",
    "    dic_amino_acids = change_list_to_dic(list_amino_acids)\n",
    "    df['residue_name_index'] = df['residue_name'].map(dic_amino_acids)\n",
    "    df['residue_name_index'] = df['residue_name_index'].fillna(len(list_amino_acids))\n",
    "    df['residue_name_index'] = df['residue_name_index'].astype(int)\n",
    "\n",
    "    dic_secondary_structures = change_list_to_dic(list_secondary_structures)\n",
    "    df['secondary_structure_index'] = df['secondary_structure'].map(dic_secondary_structures)\n",
    "    df['secondary_structure_index'] = df['secondary_structure_index'].replace(3, 2)\n",
    "\n",
    "    return df"
   ]
  },
  {
   "cell_type": "code",
   "execution_count": 64,
   "metadata": {},
   "outputs": [],
   "source": [
    "#Loads the files\n",
    "data_cath = change_format_cath(pd.read_csv(fpath_cath, sep='\\t',header=None))\n",
    "data_dssp = change_format_dssp_stride(pd.read_csv(fpath_dssp, sep='\\t',header=None))\n",
    "data_stride = change_format_dssp_stride(pd.read_csv(fpath_stride, sep='\\t',header=None))\n",
    "profiles_training = pd.read_csv(fpath_profile_training, sep='\\t')\n",
    "profiles_test = pd.read_csv(fpath_profile_test, sep='\\t')"
   ]
  },
  {
   "cell_type": "markdown",
   "metadata": {},
   "source": [
    "#### GOR III implementation  <a name=\"GORIII_i\"></a>\n",
    "It was experimented to get the counts with 3 different data structures: pandas dataframe, numpy array and list of lists. While using the pandas dataframe is easier to read, it was much slower since I could not find a way of parallelising the code. It was faster to use a list of lists.\n",
    "\n",
    "To test the performance of the GOR algorithm a leave one out procedure was used. Since it is not desired to redo all the counts during each training step, the total counts are first computed with the GOR_III_get_total_counts. A pseudo count of 0.001 is added to avoid infinities if a combination of residues of secondary structure are observed in the test set and not in the training set. "
   ]
  },
  {
   "cell_type": "code",
   "execution_count": 65,
   "metadata": {},
   "outputs": [],
   "source": [
    "def GOR_III_get_total_counts(data_list):\n",
    "    #Input must be a 2d array (undfer the format of list of lists). \n",
    "    #The zeroth column must contain the protein number\n",
    "    #The first column must contain the residue postion\n",
    "    #The second column must contain the residue type (integer format)\n",
    "    #The third column must contain the secondary structure (integer format)\n",
    "    #The fourth column must contain the chain of the protein \n",
    "    counts = np.ones((2*w+1, len(list_amino_acids)+1, len(list_amino_acids)+1, 3))*0.001\n",
    "    I =np.zeros((2*w+1, len(list_amino_acids)+1, len(list_amino_acids)+1, 3))\n",
    "    for i in range(len(data_list)):\n",
    "        res_center = data_list[i][2]\n",
    "        ss = data_list[i][3]\n",
    "        for j in range(max(0,i-w),min(len(data_list),i+w+1)):\n",
    "            res_other = data_list[j][2]\n",
    "            if data_list[i][0] == data_list[j][0] and  data_list[i][4] == data_list[j][4]:\n",
    "                delta = data_list[j][1] -  data_list[i][1]\n",
    "                if abs(delta) <= w:\n",
    "                    counts[w+delta,res_center,res_other,ss]+=1\n",
    "    return counts"
   ]
  },
  {
   "cell_type": "markdown",
   "metadata": {},
   "source": [
    "The output of the function is a 4d list that is used to compute the directional and self information. The first entry corresponds to the distance between the centre residue and the other residue in the window. It is the position of the central residue minus the position of the other residue plus the window size. The second item is the central residue (converted to an integer), the third item is the residue (converted to an integer) used for the directional information. The last item is the secondary structure index. Therefore counts(8,0,0,0) gives the number of Alanines that form an $\\alpha$ helix in the dataset and counts(6,0,2,1) gives the number of Alanines that form $\\beta$ sheets and that are 2 positions ahead an Asparagine."
   ]
  },
  {
   "cell_type": "code",
   "execution_count": 66,
   "metadata": {},
   "outputs": [
    {
     "name": "stdout",
     "output_type": "stream",
     "text": [
      "2992.001\n",
      "35.001\n"
     ]
    }
   ],
   "source": [
    "df_simplified = data_stride[['protein_number', \n",
    "                    'PDB_seq_code', \n",
    "                    'residue_name_index', \n",
    "                    'secondary_structure_index', \n",
    "                    'PDB_chain_code',\n",
    "                    'PDB_code']]\n",
    "data_list = df_simplified.values.tolist()\n",
    "total_counts = GOR_III_get_total_counts(data_list)\n",
    "print(total_counts[8,0,0,0])\n",
    "print(total_counts[6,0,2,1])"
   ]
  },
  {
   "cell_type": "markdown",
   "metadata": {},
   "source": [
    "Then the counts from the sequences in the test set are removed from the total counts and the pointwise mutual information is computed by the function GOR_III_get_I_remove_protein. "
   ]
  },
  {
   "cell_type": "code",
   "execution_count": 67,
   "metadata": {},
   "outputs": [],
   "source": [
    "def GOR_III_get_I_remove_protein(test_data_list, total_counts):\n",
    "    counts = np.zeros((2*w+1, len(list_amino_acids)+1, len(list_amino_acids)+1, 3,4))\n",
    "    I = np.zeros((2*w+1, len(list_amino_acids)+1, len(list_amino_acids)+1, 3))\n",
    "\n",
    "    #initialise the counts as the total counts\n",
    "    for delta in range(-w,w+1):\n",
    "        for res_center in range(len(list_amino_acids)+1):\n",
    "            for res_other in range(len(list_amino_acids)+1):\n",
    "                for ss in range(3):\n",
    "                    counts[w+delta,res_center,res_other,ss,0] = total_counts[w+delta,res_center,res_other,ss]\n",
    "\n",
    "    #remove the counts from the test data\n",
    "    for i in range(len(test_data_list)):\n",
    "        res_center = test_data_list[i][2]\n",
    "        ss = test_data_list[i][3]\n",
    "        for j in range(max(0,i-w),min(len(test_data_list),i+w+1)):\n",
    "            res_other = test_data_list[j][2]\n",
    "            if test_data_list[i][0] == test_data_list[j][0]  and  data_list[i][4] == data_list[j][4]:\n",
    "                delta = test_data_list[j][1] -  test_data_list[i][1]\n",
    "                if abs(delta) <= w:\n",
    "                    counts[w+delta,res_center,res_other,ss]-=1\n",
    "\n",
    "    #Find marginal and conditional frequencies\n",
    "    for res_center in range(len(list_amino_acids)+1):\n",
    "        for ss in range(3):\n",
    "            f_Sj_Rj = 0\n",
    "            f_n_Sj_Rj = 0\n",
    "            for res_other in range(len(list_amino_acids)+1):\n",
    "                for delta in range(-w,w+1):\n",
    "                    counts[w+delta,res_center,res_other,ss,1] = np.sum(counts[w+delta,res_center,res_other,:,0])-counts[w+delta,res_center,res_other,ss,0] #Not great to add and then substract\n",
    "                    f_Sj_Rj += counts[w+delta,res_center,res_other,ss,0]\n",
    "                    f_n_Sj_Rj += counts[w+delta,res_center,res_other,ss,1]\n",
    "            for res_other in range(len(list_amino_acids)+1):\n",
    "                for delta in range(-w,w+1):\n",
    "                    counts[w+delta,res_center,res_other,ss,2] = f_n_Sj_Rj\n",
    "                    counts[w+delta,res_center,res_other,ss,3] = f_Sj_Rj\n",
    "\n",
    "    #Find I\n",
    "    for delta in range(-w,w+1):\n",
    "        for res_center in range(len(list_amino_acids)+1):\n",
    "            for ss in range(3):\n",
    "                for res_other in range(len(list_amino_acids)+1):\n",
    "                    I[w+delta,res_center,res_other,ss] = np.sum(np.log(counts[w+delta,res_center,res_other,ss])*[1,-1,1,-1])\n",
    "\n",
    "    return I"
   ]
  },
  {
   "cell_type": "markdown",
   "metadata": {},
   "source": [
    "The output format is the same as in the GOR_III_get_total_counts function"
   ]
  },
  {
   "cell_type": "code",
   "execution_count": 68,
   "metadata": {},
   "outputs": [
    {
     "name": "stdout",
     "output_type": "stream",
     "text": [
      "-0.029495701330146673\n",
      "-0.1720254784864288\n"
     ]
    }
   ],
   "source": [
    "test_data_list = df_simplified[df_simplified['PDB_code'] == \"1w0n\"].values.tolist()\n",
    "I = GOR_III_get_I_remove_protein(test_data_list, total_counts)\n",
    "print(I[8,0,0,0])\n",
    "print(I[6,0,2,1])"
   ]
  },
  {
   "cell_type": "markdown",
   "metadata": {},
   "source": [
    "Then the function predicitng the structure is GOR_III_predict and has 2 optional parameters. If filter_short_seq is set to True short sequences of alpha helices or beta sheets are removed. If use_MSA_testing is set to true and the MSA file is present in the data/MSA_files folder, it uses that information for the prediction. The MSA information can only be used for the STRIDE data, the sequences in the MSA do not match the data from the DSSP dataset."
   ]
  },
  {
   "cell_type": "code",
   "execution_count": 69,
   "metadata": {},
   "outputs": [],
   "source": [
    "def get_MSA_formatted_for_GOR_III_pred(seq,PDB_code):\n",
    "    if os.path.isfile(path_MSA+PDB_code+\".aln\"):\n",
    "        align = AlignIO.read(path_MSA+PDB_code+\".aln\", \"clustal\")\n",
    "    elif os.path.isfile(path_MSA+PDB_code+\"_Clustalomega_.fasta\"): \n",
    "        align = AlignIO.read(path_MSA+PDB_code+\"_Clustalomega_.fasta\", \"fasta\")\n",
    "    else:\n",
    "        return seq.reshape((seq.size,1))\n",
    "\n",
    "    out = np.zeros((seq.size,len(align)), dtype=int)\n",
    "\n",
    "    #Finds which line in the MSA corresponds to the original protein\n",
    "    for i in range(len(align)):\n",
    "        if align[i].id == PDB_code:\n",
    "            main_prot = i\n",
    "            break\n",
    "\n",
    "    res = 0\n",
    "    for i in range(len(align[main_prot])):\n",
    "        if align[main_prot][i]!= \"-\":\n",
    "            for j in range(len(align)):\n",
    "                if align[j][i] in list_amino_acids_1_letter:\n",
    "                    out[res,j] = list_amino_acids_1_letter.index(align[j][i])\n",
    "                else:\n",
    "                    out[res,j] = len(list_amino_acids_1_letter) #separate category for gaps or unknown a.a.\n",
    "            res+=1\n",
    "    return out\n",
    "\n",
    "def GOR_III_compute_soft_score(I, positions,sequence,probability_format = False,skip_non_elementary_aa = False):\n",
    "    soft_score = np.zeros((sequence.size,3))\n",
    "    for i in range(sequence.size):\n",
    "        res_center = sequence[i]\n",
    "        if (skip_non_elementary_aa and res_center == len(list_amino_acids)): continue\n",
    "        for j in range(max(0,i-w),min(len(positions),i+w+1)):\n",
    "            res_other = sequence[j]\n",
    "            delta = positions[j] -  positions[i]\n",
    "            if abs(delta) <= w:\n",
    "                soft_score[i,:] += I[w+delta,res_center,res_other,:]\n",
    "        if probability_format:\n",
    "            denominator = 1+np.exp(soft_score[i,0])+np.exp(soft_score[i,1])\n",
    "            soft_score[i,0] = np.exp(soft_score[i,0])/denominator\n",
    "            soft_score[i,1] = np.exp(soft_score[i,1])/denominator\n",
    "            soft_score[i,2] = 1/denominator\n",
    "\n",
    "    return(soft_score)\n",
    "\n",
    "def hard_decision(soft_score,filter_short_seq = False):\n",
    "    hard_prediction = np.argmax(soft_score, axis=1)\n",
    "    if filter_short_seq: \n",
    "        i = 0\n",
    "        while i < hard_prediction.size:\n",
    "            \n",
    "            #Finds next residue with different ss\n",
    "            j = i+1\n",
    "            while j<hard_prediction.size:\n",
    "                if (hard_prediction[i] != hard_prediction[j]): break\n",
    "                j+=1\n",
    "\n",
    "            #If the first residue was a coil, skip\n",
    "            if hard_prediction[i] != 2: \n",
    "                if hard_prediction[i] == 0 and j-i < MIN_LENGTH_ALPHA:\n",
    "                    hard_prediction[i:j] = 2*np.ones(j-i)\n",
    "\n",
    "                elif  hard_prediction[i] == 1 and j-i < MIN_LENGTH_BETA:\n",
    "                    hard_prediction[i:j] = 2*np.ones(j-i)\n",
    "            i=j\n",
    "\n",
    "    return hard_prediction                \n",
    "\n",
    "\n",
    "\n",
    "def GOR_III_predict(I, df_test,filter_short_seq=False, use_MSA_testing = False):\n",
    "    #3 modes : 0 no MSA information, 1 as in GOR V paper, 2 my method\n",
    "    PDB_codes = pd.unique(df_test['PDB_code'])\n",
    "    ss = np.zeros(df_test.shape[0],dtype = int)\n",
    "    for PDB_code in PDB_codes:\n",
    "        df = df_test[df_test['PDB_code'] == PDB_code]\n",
    "        positions = df['PDB_seq_code'].values\n",
    "        sequence = df[\"residue_name_index\"].values\n",
    "        \n",
    "        if not use_MSA_testing:\n",
    "            mean_soft_score = GOR_III_compute_soft_score(I,positions,sequence)\n",
    "        else:\n",
    "            aligned_seq = get_MSA_formatted_for_GOR_III_pred(sequence,PDB_code)\n",
    "            soft_scores = np.zeros((aligned_seq.shape[0], aligned_seq.shape[1],3))\n",
    "            mean_soft_score = np.zeros((sequence.size,3))\n",
    "            for homoloug_seq_number in range(aligned_seq.shape[1]):\n",
    "                soft_scores[:,homoloug_seq_number,:] = GOR_III_compute_soft_score(I,positions,\n",
    "                                                                                  aligned_seq[:,homoloug_seq_number],\n",
    "                                                                                  probability_format = True)\n",
    "            for res_number in range(sequence.size):\n",
    "                number_non_gaps = 0\n",
    "                for homoloug_seq_number in range(aligned_seq.shape[1]):\n",
    "                    if aligned_seq[res_number,homoloug_seq_number] != len(list_amino_acids_1_letter):\n",
    "                        for ss_index in range(3):\n",
    "                            mean_soft_score[res_number,ss_index]+= soft_scores[res_number,\n",
    "                                                                               homoloug_seq_number,\n",
    "                                                                               ss_index]\n",
    "                        number_non_gaps +=1\n",
    "                if number_non_gaps!= 0: mean_soft_score[res_number,:]/=number_non_gaps\n",
    "\n",
    "        ss[df_test['PDB_code'] == PDB_code] = hard_decision(mean_soft_score,filter_short_seq)\n",
    "    return(ss)\n",
    "\n"
   ]
  },
  {
   "cell_type": "markdown",
   "metadata": {},
   "source": [
    "For instance the prediction for the protein with PDB code 1w0n is found below with and without evolutionary information. 0 corresponds to $\\alpha$ helix, 1 corresponds to $\\beta$ sheet, and 2 corresponds to coil."
   ]
  },
  {
   "cell_type": "code",
   "execution_count": 70,
   "metadata": {},
   "outputs": [
    {
     "name": "stdout",
     "output_type": "stream",
     "text": [
      "[0 0 1 0 1 1 1 1 0 1 1 1 1 1 1 1 1 1 1 1 2 2 1 2 1 1 1 1 1 1 2 2 2 2 2 1 1\n",
      " 1 1 1 1 1 1 1 2 1 1 1 1 1 1 1 2 2 2 2 0 0 2 0 1 0 1 1 1 1 1 1 1 2 1 1 1 1\n",
      " 1 1 1 1 1 2 2 1 1 1 1 1 1 1 2 2 2 2 0 2 2 2 1 1 1 1 1 1 1 1 1 2 0 2 1 0 2\n",
      " 0 1 0 0 2 1 1 1 2]\n",
      "[0 0 0 0 1 0 0 1 0 1 2 1 0 1 1 2 1 1 2 1 2 2 2 2 1 1 1 1 0 2 2 2 2 2 0 2 2\n",
      " 0 2 0 1 1 2 1 1 2 1 1 1 1 1 1 2 2 2 2 2 2 0 1 1 1 1 1 1 1 1 1 1 1 1 1 1 1\n",
      " 1 1 2 2 2 1 2 2 1 2 2 1 1 2 0 0 0 0 0 0 2 0 0 0 1 1 1 1 1 2 2 2 2 2 1 0 2\n",
      " 0 2 0 0 0 1 0 1 2]\n"
     ]
    }
   ],
   "source": [
    "test_data_list = df_simplified[df_simplified['PDB_code'] == \"1w0n\"].values.tolist()\n",
    "I = GOR_III_get_I_remove_protein(test_data_list, total_counts)\n",
    "df_test = data_stride[data_stride['PDB_code'] == \"1w0n\"]\n",
    "\n",
    "ss_with_MSA_information = GOR_III_predict(I, df_test,filter_short_seq=False, use_MSA_testing = True)\n",
    "ss_without_MSA_information = GOR_III_predict(I, df_test,filter_short_seq=False, use_MSA_testing = False)\n",
    "print(ss_with_MSA_information)\n",
    "print(ss_without_MSA_information)\n"
   ]
  },
  {
   "cell_type": "markdown",
   "metadata": {},
   "source": [
    "#### NN implementation  <a name=\"NN_i\"></a>\n",
    "The Neural network is implemented with tensorflow. First the format of the data set must be changed for the NN by sliding a window and applying a one hot encoding of the residues if no evolutionary information is used or use the previously computed profiles if evolutionary information is used. This is done by the functions NN_change_format_data_for_input and NN_change_format_data_for_input_MSA."
   ]
  },
  {
   "cell_type": "code",
   "execution_count": 71,
   "metadata": {},
   "outputs": [],
   "source": [
    "def NN_change_format_data_for_input(data_list):\n",
    "    n_res = len(data_list)\n",
    "    x = np.ones((n_res,2*w+1), dtype=int)*(len(list_amino_acids)+1)\n",
    "    y = np.zeros(n_res, dtype=int)\n",
    "    for i in range(n_res):\n",
    "        y[i] = data_list[i,3]\n",
    "        for j in range(max(0,i-w),min(data_list.shape[0],i+w+1)):\n",
    "            if data_list[i,0] == data_list[j,0]:\n",
    "                delta = data_list[j,1] -  data_list[i,1]\n",
    "                if abs(delta) <= w:\n",
    "                     x[i][w+delta] = data_list[j,2]\n",
    "\n",
    "    #Perform 1 hot encoding\n",
    "    x_1_hot = np.eye(len(list_amino_acids)+2)[x]\n",
    "    y_1_hot = np.zeros((n_res, 3))\n",
    "    y_1_hot[np.arange(n_res),y] = 1\n",
    "\n",
    "    return x_1_hot,y_1_hot\n",
    "\n",
    "def NN_change_format_data_for_input_MSA(data_list,MSA_df):\n",
    "    n_res = len(data_list)\n",
    "    x = np.zeros((n_res,2*w+1,len(list_amino_acids)+2))\n",
    "    x[:,:,len(list_amino_acids)+1] = 1 #inialisation of all the residues outside the sliding window\n",
    "    y = np.zeros((n_res,3), dtype=int)\n",
    "    PDB_codes_MSA = pd.unique(MSA_df['PDB_code'])\n",
    "    PDB_codes = np.unique(data_list[:,4])\n",
    "\n",
    "    #Add the MSA information \n",
    "    for PDB_code in PDB_codes_MSA:\n",
    "        indexes = np.where(data_list[:,4] == PDB_code)[0]\n",
    "        start_index = indexes[0]\n",
    "        chain = data_list[indexes[0],5]\n",
    "        profile = MSA_df.loc[MSA_df['PDB_code'] == PDB_code].values[:,2:]\n",
    "        for i in indexes:\n",
    "            if chain != data_list[i,5]: \n",
    "                chain = data_list[i,5]\n",
    "                start_index = i\n",
    "            y[i,data_list[i,3]] = 1\n",
    "            for j in range(max(0,i-w),min(data_list.shape[0],i+w+1)):\n",
    "                if data_list[i,0] == data_list[j,0]:\n",
    "                    delta = data_list[j,1] -  data_list[i,1]\n",
    "                    if abs(delta) <= w:\n",
    "                        x[i,w+delta,len(list_amino_acids)+1] = 0\n",
    "                        x[i,w+delta,:len(list_amino_acids)+1] = profile[j-start_index,:]\n",
    "\n",
    "    #Whne no evolutionary information, use 1 hot encoding \n",
    "    for PDB_code in PDB_codes:\n",
    "        if PDB_code in PDB_codes_MSA: continue\n",
    "        indexes = np.where(data_list[:,4] == PDB_code)[0]\n",
    "        x_prot, y_prot = NN_change_format_data_for_input(data_list[indexes,:])\n",
    "        x[indexes,:,:] = x_prot\n",
    "        y[indexes,:] = y_prot\n",
    "\n",
    "    return x,y"
   ]
  },
  {
   "cell_type": "markdown",
   "metadata": {},
   "source": [
    "Then the neural network is trained with the function NN_training. The hidden layer has $3(2w+1)$ units and uses a softmax activation function. The number of epochs (which is the number of times the backpropagation algorithm will see each data point during the batch gradient descent) in set arbitrarily to 5. "
   ]
  },
  {
   "cell_type": "code",
   "execution_count": 72,
   "metadata": {},
   "outputs": [],
   "source": [
    "def NN_training(x_train,y_train):\n",
    "    \n",
    "    model = tf.keras.models.Sequential([\n",
    "        tf.keras.layers.Flatten(input_shape=(2*w+1, len(list_amino_acids)+2)),\n",
    "        tf.keras.layers.Dense((2*w+1)*3, activation='softmax'),\n",
    "        tf.keras.layers.Dense(3, activation='softmax')\n",
    "    ])\n",
    "\n",
    "    model.compile(optimizer='adam',\n",
    "              loss='categorical_crossentropy',\n",
    "              metrics=['accuracy'])\n",
    "\n",
    "    model.fit(x_train, y_train, epochs=5, verbose = 0)\n",
    "\n",
    "    return(model)"
   ]
  },
  {
   "cell_type": "markdown",
   "metadata": {},
   "source": [
    "Then the predictions are made by the predict function from tensorflow. Below is an example showing how to use these functions without evolutionary information."
   ]
  },
  {
   "cell_type": "code",
   "execution_count": 73,
   "metadata": {},
   "outputs": [
    {
     "name": "stdout",
     "output_type": "stream",
     "text": [
      "[2 2 0 0 0 0 0 0 2 0 2 2 2 2 1 2 2 2 2 2 2 2 2 2 2 0 1 1 1 0 2 2 2 0 0 1 0\n",
      " 0 1 0 0 2 2 2 2 2 2 1 1 1 1 2 2 2 2 2 2 2 2 2 1 1 1 1 1 1 1 1 1 1 1 1 1 1\n",
      " 2 2 2 2 2 2 2 2 1 1 1 1 1 0 1 2 2 2 2 2 2 0 0 0 1 1 1 1 2 2 2 2 2 2 2 2 0\n",
      " 0 0 0 1 0 0 1 2 2]\n"
     ]
    }
   ],
   "source": [
    "df_simplified = data_stride[['protein_number', \n",
    "                    'PDB_seq_code', \n",
    "                    'residue_name_index', \n",
    "                    'secondary_structure_index',\n",
    "                    'PDB_code', \n",
    "                    'PDB_chain_code']]\n",
    "data_list = df_simplified.values\n",
    "x,y = NN_change_format_data_for_input(data_list)\n",
    "train_indexes = np.where(data_list[:,4] != \"1w0n\")[0]\n",
    "test_indexes = np.where(data_list[:,4] == \"1w0n\")[0]\n",
    "x_train = x[train_indexes,:,:]\n",
    "y_train = y[train_indexes,:]\n",
    "x_test = x[test_indexes,:,:]\n",
    "y_test = y[test_indexes,:]\n",
    "model = NN_training(x_train,y_train)\n",
    "prediction = model.predict(x_test)\n",
    "hard_prediction = hard_decision(prediction)\n",
    "print(hard_prediction)"
   ]
  },
  {
   "cell_type": "markdown",
   "metadata": {},
   "source": [
    "Below is the code to perform the same task but this time using evolutionary information both during the training and testing."
   ]
  },
  {
   "cell_type": "code",
   "execution_count": 74,
   "metadata": {},
   "outputs": [
    {
     "name": "stdout",
     "output_type": "stream",
     "text": [
      "[2 2 2 0 0 0 0 0 0 2 2 2 2 2 1 1 1 2 2 2 2 2 2 2 2 1 1 0 0 0 2 2 2 2 0 0 0\n",
      " 0 0 0 0 2 2 2 2 2 0 0 0 0 0 0 0 0 0 0 0 0 0 0 0 0 0 0 0 0 0 2 2 2 2 2 1 1\n",
      " 1 2 2 2 2 2 2 2 2 1 1 1 0 0 0 0 0 2 2 2 2 0 0 0 0 0 1 1 1 2 2 2 2 2 0 0 0\n",
      " 0 0 0 0 0 0 0 2 2]\n"
     ]
    }
   ],
   "source": [
    "df_simplified = data_stride[['protein_number', \n",
    "                    'PDB_seq_code', \n",
    "                    'residue_name_index', \n",
    "                    'secondary_structure_index',\n",
    "                    'PDB_code', \n",
    "                    'PDB_chain_code']]\n",
    "data_list = df_simplified.values\n",
    "x,y =  NN_change_format_data_for_input_MSA(data_list,profiles_training)\n",
    "train_indexes = np.where(data_list[:,4] != \"1w0n\")[0]\n",
    "test_indexes = np.where(data_list[:,4] == \"1w0n\")[0]\n",
    "x_train = x[train_indexes,:,:]\n",
    "y_train = y[train_indexes,:]\n",
    "x_test = x[test_indexes,:,:]\n",
    "y_test = y[test_indexes,:]\n",
    "model = NN_training(x_train,y_train)\n",
    "prediction = model.predict(x_test)\n",
    "hard_prediction = hard_decision(prediction)\n",
    "print(hard_prediction)"
   ]
  },
  {
   "cell_type": "markdown",
   "metadata": {},
   "source": [
    "#### CATH prediction  <a name=\"CATH_i\"></a>\n",
    "The CATH prediction was implemented with sklearn. The training of the classifier is done by the function CATH_classifier_training. It takes as input, a dataframe with the secondary structure of proteins and a dataframe with the CATH classes. It also takes 3 optional arguments.\n",
    "- classifier_type determines which classifier is used.\n",
    "- verbose determines if the confusion matrix of the classifiers on the training set is printed.\n",
    "- print_decision_regions determines if the decision regions are shown with matplotlib. This requires the package mlxtend. "
   ]
  },
  {
   "cell_type": "code",
   "execution_count": 75,
   "metadata": {},
   "outputs": [],
   "source": [
    "def compute_confusion_matrix(ss_predicted, ss_true,numb_classes):\n",
    "    confusion_matrix = np.zeros((numb_classes,numb_classes))\n",
    "    for i in range(len(ss_predicted)):\n",
    "        confusion_matrix[ss_predicted[i], ss_true[i]]+=1\n",
    "    return(confusion_matrix)\n",
    "\n",
    "def compute_percentage_ss(ss):\n",
    "    out = np.zeros(3)\n",
    "    for i in range(ss.size): out[ss[i]]+=1\n",
    "    return(out/ss.size)\n",
    "\n",
    "def CATH_classifier_training(df,df_CATH,classifier_type=0,verbose = False,print_decision_regions = False):\n",
    "    protein_numbers = pd.unique(df['protein_number'])\n",
    "    X = np.zeros((protein_numbers.size,2))\n",
    "    Y = np.zeros(protein_numbers.size)\n",
    "    for i,protein_number in enumerate(protein_numbers):\n",
    "        ss_percentage = compute_percentage_ss(df.loc[df['protein_number'] == protein_number] ['secondary_structure_index'].values)\n",
    "        PDB_code = df['PDB_code'][df['protein_number'] == protein_number].iloc[0]\n",
    "        cath_category = df_CATH[df_CATH['PDB_code'] == PDB_code]['protein_family_index'].iloc[0]\n",
    "        X[i,:] = ss_percentage[:2]\n",
    "        Y[i] = cath_category\n",
    "\n",
    "    if classifier_type == 0:\n",
    "        classifier = svm.SVC(kernel='rbf')\n",
    "    elif classifier_type == 1:\n",
    "        classifier = svm.SVC(kernel='linear')\n",
    "    elif classifier_type == 2:\n",
    "        classifier = LogisticRegression()\n",
    "    \n",
    "    classifier.fit(X, Y)\n",
    "    if verbose:\n",
    "        Y_pred = classifier.predict(X)\n",
    "        print(\"The confusion matrix is\")\n",
    "        print(compute_confusion_matrix(Y_pred.astype(int),Y.astype(int) ,4))\n",
    "        print(\"The vertical axis corresponds to the predictions and the horizontal axis to the true values.\")\n",
    "        print(\"First entry is alpha, second is beta, third alpha + beta and the fourth is None\")\n",
    "    if print_decision_regions:  \n",
    "        plot_decision_regions(X=X, y=Y.astype(int), clf=classifier)\n",
    "        plt.xlim(-0.1, 1.1)\n",
    "        plt.ylim(-0.1, 1.1)\n",
    "        plt.xlabel(\"% alpha\")\n",
    "        plt.xlabel(\"% beta\")\n",
    "        plt.show()\n",
    "        print(\"class 0: alpha, class 1: beta, class 2: alpha + beta, class 3: None\")\n",
    "    return classifier"
   ]
  },
  {
   "cell_type": "markdown",
   "metadata": {},
   "source": [
    "If the experimental data from stride is used to train a logistic regression classifier the confusion matrix on the training set is"
   ]
  },
  {
   "cell_type": "code",
   "execution_count": 28,
   "metadata": {},
   "outputs": [
    {
     "name": "stdout",
     "output_type": "stream",
     "text": [
      "The confusion matrix is\n",
      "[[110.   0.   2.   1.]\n",
      " [  0.  65.   2.   0.]\n",
      " [ 19.  35. 255.   5.]\n",
      " [  0.   0.   0.   0.]]\n",
      "The vertical axis corresponds to the predictions and the horizont axis to the true values.\n",
      "First entry is alpha, second is beta, third alpha + beta and the fourth is None\n"
     ]
    }
   ],
   "source": [
    "classifier = CATH_classifier_training(data_stride,data_cath,classifier_type=2,verbose = True)"
   ]
  },
  {
   "cell_type": "markdown",
   "metadata": {},
   "source": [
    "The decision regions are given below (this requires mlxtend to be installed):"
   ]
  },
  {
   "cell_type": "code",
   "execution_count": 29,
   "metadata": {},
   "outputs": [],
   "source": [
    "from mlxtend.plotting import plot_decision_regions"
   ]
  },
  {
   "cell_type": "code",
   "execution_count": 30,
   "metadata": {},
   "outputs": [
    {
     "name": "stderr",
     "output_type": "stream",
     "text": [
      "/usr/local/lib/python3.7/site-packages/mlxtend/plotting/decision_regions.py:249: MatplotlibDeprecationWarning: Passing unsupported keyword arguments to axis() will raise a TypeError in 3.3.\n",
      "  ax.axis(xmin=xx.min(), xmax=xx.max(), y_min=yy.min(), y_max=yy.max())\n"
     ]
    },
    {
     "data": {
      "image/png": "[encoded data removed]",
      "text/plain": [
       "<Figure size 432x288 with 1 Axes>"
      ]
     },
     "metadata": {
      "needs_background": "light"
     },
     "output_type": "display_data"
    },
    {
     "name": "stdout",
     "output_type": "stream",
     "text": [
      "class 0: alpha, class 1: beta, class 2: alpha + beta, class 3: None\n"
     ]
    }
   ],
   "source": [
    "classifier = CATH_classifier_training(data_stride,data_cath,classifier_type=2,print_decision_regions = True)"
   ]
  },
  {
   "cell_type": "markdown",
   "metadata": {},
   "source": [
    "If the classifier is the SVM with a radial basis function kernel then the decision regions are:"
   ]
  },
  {
   "cell_type": "code",
   "execution_count": 31,
   "metadata": {},
   "outputs": [
    {
     "name": "stderr",
     "output_type": "stream",
     "text": [
      "/usr/local/lib/python3.7/site-packages/mlxtend/plotting/decision_regions.py:249: MatplotlibDeprecationWarning: Passing unsupported keyword arguments to axis() will raise a TypeError in 3.3.\n",
      "  ax.axis(xmin=xx.min(), xmax=xx.max(), y_min=yy.min(), y_max=yy.max())\n"
     ]
    },
    {
     "data": {
      "image/png": "[encoded data removed]",
      "text/plain": [
       "<Figure size 432x288 with 1 Axes>"
      ]
     },
     "metadata": {
      "needs_background": "light"
     },
     "output_type": "display_data"
    },
    {
     "name": "stdout",
     "output_type": "stream",
     "text": [
      "class 0: alpha, class 1: beta, class 2: alpha + beta, class 3: None\n"
     ]
    }
   ],
   "source": [
    "classifier = CATH_classifier_training(data_stride,data_cath,classifier_type=0,print_decision_regions = True)"
   ]
  },
  {
   "cell_type": "markdown",
   "metadata": {},
   "source": [
    "#### Main functions  <a name=\"Main_functions\"></a>\n",
    "Using all the previously defined functions, the performance of the algorithms can be computed using cross validation. The performance is measured using the accuracy ($Q_3$) and the Mathew correlation coefficient (MCC). These are computed by the functions compute_Q3 and get_MCCs. These functions take as an input the predicted classes and the true classes. get_MCCs gives 4 outputs, the first 3 are the one versus rest coefficients while the fourth is the overall MCC."
   ]
  },
  {
   "cell_type": "code",
   "execution_count": 32,
   "metadata": {},
   "outputs": [],
   "source": [
    "def compute_Q3(ss_predicted, ss_true):\n",
    "    number_residues = ss_predicted.size\n",
    "    number_errors = np.count_nonzero(ss_predicted - ss_true)\n",
    "    return 1-(number_errors/number_residues)\n",
    "\n",
    "def compute_MCC(confusion_matrix):\n",
    "    numerator = 0\n",
    "    denominator_term_1 = 0\n",
    "    denominator_term_2 = 0\n",
    "    size_matrix = confusion_matrix.shape[0]\n",
    "    for k in range(size_matrix):\n",
    "        for l in range(size_matrix):\n",
    "            for m in range(size_matrix):\n",
    "                numerator += confusion_matrix[k,k]*confusion_matrix[l,m] - confusion_matrix[k,l]*confusion_matrix[m,k]\n",
    "\n",
    "    for k in range(size_matrix):\n",
    "        denominator_term_1 += np.sum(confusion_matrix[k,:])*(np.sum(confusion_matrix) - np.sum(confusion_matrix[k,:]))\n",
    "    denominator_term_1 = np.sqrt(denominator_term_1)\n",
    "\n",
    "    for k in range(size_matrix):\n",
    "        denominator_term_2 += np.sum(confusion_matrix[:,k])*(np.sum(confusion_matrix) - np.sum(confusion_matrix[:,k]))\n",
    "    denominator_term_2 = np.sqrt(denominator_term_2)\n",
    "    \n",
    "    denominator = denominator_term_1*denominator_term_2\n",
    "    if denominator == 0: return 0 \n",
    "    else: return numerator/denominator\n",
    "    \n",
    "def get_MCCs(ss_predicted, ss_true):\n",
    "    MCCs = np.zeros(4)\n",
    "    MCC_overall = compute_MCC(compute_confusion_matrix(ss_predicted,ss_true,3))\n",
    "    MCCs[3] =  MCC_overall\n",
    "    for i in range(3):\n",
    "        ss_true_binary = (ss_true == i).astype(int)\n",
    "        ss_predicted_binary = (ss_predicted == i).astype(int)\n",
    "        MCCs[i] = compute_MCC(compute_confusion_matrix(ss_predicted_binary,ss_true_binary,2))\n",
    "    return MCCs"
   ]
  },
  {
   "cell_type": "markdown",
   "metadata": {},
   "source": [
    "Then cross validation using the leave one out or the Kfold cross validation is done by the 2 following functions that return the Q3, MCC and CATH class predictions for each proteins in a list format."
   ]
  },
  {
   "cell_type": "code",
   "execution_count": 76,
   "metadata": {},
   "outputs": [],
   "source": [
    "def get_ss_pred_by_GOR_for_CATH_pred(df, I, use_MSA_testing = False):\n",
    "    df_out = df.copy()\n",
    "    for i in pd.unique(df['protein_number']):\n",
    "        test_df = df.loc[df['protein_number'] == i]\n",
    "        ss_predicted =  GOR_III_predict(I, test_df,use_MSA_testing = use_MSA_testing)\n",
    "        df_out.loc[df_out[\"protein_number\"] == i, \"secondary_structure_index\"] = ss_predicted\n",
    "    return df_out\n",
    "\n",
    "def get_ss_pred_by_NN_for_CATH_pred(df, model,x_train):\n",
    "    df_out = df.copy()\n",
    "    y_pred_soft = model.predict(x_train)\n",
    "    y_pred = hard_decision(y_pred_soft)\n",
    "    for i in pd.unique(df_out['protein_number']):\n",
    "        df_out.loc[df_out[\"protein_number\"] == i, \"secondary_structure_index\"] = y_pred[df_out[\"protein_number\"] == i]\n",
    "    return df_out\n",
    "\n",
    "def GOR_III_performance(df,df_CATH,\n",
    "                        use_predicted_ss_for_CATH_prediction=False,\n",
    "                        cross_validation = \"leave_1_out\", \n",
    "                        k=10, \n",
    "                        use_MSA_testing = False,\n",
    "                        CATH_classifier_type = 0,\n",
    "                        verbose = True):\n",
    "    \n",
    "    df_simplified = df[['protein_number', 'PDB_seq_code', 'residue_name_index', 'secondary_structure_index', 'PDB_chain_code']]\n",
    "    data_list = df_simplified.values.tolist()\n",
    "    total_counts = GOR_III_get_total_counts(data_list)\n",
    "    number_proteins = df_simplified['protein_number'].max()\n",
    "\n",
    "    Q3_list = np.zeros(number_proteins)\n",
    "    MCCs_list = np.zeros((number_proteins,4))\n",
    "    CATH_predictions_performance = np.zeros((number_proteins,2)).astype(int)\n",
    "\n",
    "    if (cross_validation == \"Kfold\"):\n",
    "        number_rounds = k\n",
    "        proteins_numbers_shuffled = np.arange(number_proteins)\n",
    "        np.random.shuffle(proteins_numbers_shuffled)\n",
    "        batch_size_test = number_proteins // k # The last set will be a bit bigger\n",
    "    else:\n",
    "        number_rounds = number_proteins\n",
    "\n",
    "    for i in range(number_rounds):\n",
    "        if cross_validation == \"leave_1_out\":\n",
    "            df_test = df.loc[df['protein_number'] == i]\n",
    "            df_train = df.loc[df['protein_number'] != i]\n",
    "            test_data_list = df_simplified.loc[df_simplified['protein_number'] == i].values.tolist()\n",
    "            PDB_code_test = df['PDB_code'][df['protein_number'] == i].iloc[0]\n",
    "            df_CATH_training = df_CATH[df_CATH['PDB_code']!=PDB_code_test]\n",
    "            df_CATH_test = df_CATH[df_CATH['PDB_code']==PDB_code_test]\n",
    "        elif cross_validation == \"Kfold\":\n",
    "            if i != k-1:\n",
    "                proteins_numbers_test =  proteins_numbers_shuffled[i*batch_size_test:(i+1)*batch_size_test]\n",
    "                proteins_numbers_train = np.concatenate((proteins_numbers_shuffled[:i*batch_size_test], proteins_numbers_shuffled[(i+1)*batch_size_test:]), axis=None)\n",
    "            else:\n",
    "                proteins_numbers_test = proteins_numbers_shuffled[i*batch_size_test:]\n",
    "                proteins_numbers_train = proteins_numbers_shuffled[:i*batch_size_test]\n",
    "            \n",
    "            df_test = df.loc[df['protein_number'].isin(proteins_numbers_test)]\n",
    "            df_train = df.loc[df['protein_number'].isin(proteins_numbers_train)]\n",
    "            test_data_list = df_simplified[df_simplified['protein_number'].isin(proteins_numbers_test)].values.tolist()\n",
    "            PDB_codes_test = pd.unique(df_test['PDB_code'])\n",
    "            PDB_codes_train = pd.unique(df_train['PDB_code'])\n",
    "            df_CATH_training = df_CATH[df_CATH['PDB_code'].isin(PDB_codes_train)]\n",
    "            df_CATH_test = df_CATH[df_CATH['PDB_code'].isin(PDB_codes_test)]\n",
    "        \n",
    "        I = GOR_III_get_I_remove_protein(test_data_list, total_counts)\n",
    "        ss_predicted =  GOR_III_predict(I, df_test,use_MSA_testing = use_MSA_testing)\n",
    "        \n",
    "        if use_predicted_ss_for_CATH_prediction:\n",
    "            df_ss_pred_for_CATH_pred = get_ss_pred_by_GOR_for_CATH_pred(df_train, I,use_MSA_testing)\n",
    "        else:\n",
    "            df_ss_pred_for_CATH_pred =  df_train\n",
    "            \n",
    "        CATH_classifier = CATH_classifier_training(df_ss_pred_for_CATH_pred,df_CATH_training, classifier_type = CATH_classifier_type)\n",
    "        \n",
    "        if cross_validation == \"leave_1_out\":\n",
    "            ss_percentage = np.expand_dims(compute_percentage_ss(ss_predicted)[:2],0)\n",
    "        else:\n",
    "            ss_percentage = np.zeros((len(proteins_numbers_test),2))\n",
    "            for j,protein_number in enumerate(proteins_numbers_test):\n",
    "                ss = ss_predicted[df_test['protein_number'] == protein_number]\n",
    "                ss_true =  df_test['secondary_structure_index'][df_test['protein_number'] == protein_number].values\n",
    "                Q3_list[protein_number] = compute_Q3(ss,ss_true)\n",
    "                MCCs_list[protein_number,:] = get_MCCs(ss,ss_true)\n",
    "                ss_percentage[j,:] = compute_percentage_ss(ss)[:2]\n",
    "\n",
    "        CATH_prediction = CATH_classifier.predict(ss_percentage) \n",
    "\n",
    "        if cross_validation == \"leave_1_out\":\n",
    "            MCCs_list[i,:] = get_MCCs(ss_predicted,df_test['secondary_structure_index'][df_test['protein_number'] == i].values)\n",
    "            Q3_list[i] = compute_Q3(ss_predicted, df_test['secondary_structure_index'][df_test['protein_number'] == i].values)\n",
    "            CATH_class = df_CATH_test['protein_family_index'].iloc[0]\n",
    "            CATH_predictions_performance[i,:] = np.array([CATH_class, CATH_prediction[0]])\n",
    "            if verbose:\n",
    "                ss_conversion = [\"H\",\"E\",\"C\"]\n",
    "                ss_predicted_string = \"\"\n",
    "                for ss in ss_predicted: ss_predicted_string+= ss_conversion[ss]\n",
    "                print(PDB_code_test,ss_predicted_string , round(Q3_list[i],3), round(MCCs_list[i,3],3), list_protein_families[CATH_predictions_performance[i,1]])\n",
    "        else:\n",
    "            for j,protein_number in enumerate(proteins_numbers_test):\n",
    "                PDB_code = df_test['PDB_code'][df_test['protein_number'] == protein_number].iloc[0]\n",
    "                CATH_predictions_performance[protein_number,0] = df_CATH_test['protein_family_index'][df_CATH_test[\"PDB_code\"] == PDB_code].iloc[0]\n",
    "                CATH_predictions_performance[protein_number,1] = CATH_prediction[j]\n",
    "\n",
    "    return Q3_list,MCCs_list,CATH_predictions_performance\n",
    "\n",
    "\n",
    "def NN_performance(df,df_CATH,\n",
    "                   use_predicted_ss_for_CATH_prediction=False,\n",
    "                   cross_validation = \"leave_1_out\", \n",
    "                   k=10,\n",
    "                   use_MSA_training = False, \n",
    "                   use_MSA_testing = False, \n",
    "                   MSA_df = None,\n",
    "                   CATH_classifier_type = 0):\n",
    "    \n",
    "    df_simplified = df[['protein_number', 'PDB_seq_code', 'residue_name_index', 'secondary_structure_index','PDB_code', 'PDB_chain_code']]\n",
    "    data_list = df_simplified.values\n",
    "    \n",
    "    if use_MSA_training or use_MSA_testing: \n",
    "        x_MSA,y_MSA = NN_change_format_data_for_input_MSA(data_list,MSA_df)  #Actually y_MSA is the same as y  \n",
    "    x,y = NN_change_format_data_for_input(data_list)\n",
    "    number_proteins = df_simplified['protein_number'].max()\n",
    "    Q3_list = np.zeros(number_proteins)\n",
    "    MCCs_list = np.zeros((number_proteins,4))\n",
    "    CATH_predictions_performance = np.zeros((number_proteins,2)).astype(int)\n",
    "\n",
    "    if (cross_validation == \"Kfold\"):\n",
    "        proteins_numbers_shuffled = np.arange(number_proteins)\n",
    "        np.random.shuffle(proteins_numbers_shuffled)\n",
    "        batch_size_test = number_proteins // k # The last set will be a bit bigger\n",
    "        number_rounds = k\n",
    "    else:\n",
    "        number_rounds = number_proteins\n",
    "\n",
    "    for i in range(number_rounds):\n",
    "        if cross_validation == \"leave_1_out\":\n",
    "            train_indexes = np.where(data_list[:,0] != i)[0]\n",
    "            test_indexes = np.where(data_list[:,0] == i)[0]\n",
    "            \n",
    "            df_train = df.loc[df['protein_number'] != i]\n",
    "            df_test = df.loc[df['protein_number'] == i]\n",
    "            PDB_codes_test = pd.unique(df_test['PDB_code'])\n",
    "            PDB_codes_train = pd.unique(df_train['PDB_code'])\n",
    "            df_CATH_training = df_CATH[df_CATH['PDB_code'].isin(PDB_codes_train)]\n",
    "            df_CATH_test = df_CATH[df_CATH['PDB_code'].isin(PDB_codes_test)]\n",
    "        else:\n",
    "            if i != k-1:\n",
    "                proteins_numbers_test = proteins_numbers_shuffled[i*batch_size_test:(i+1)*batch_size_test]\n",
    "                proteins_numbers_train = np.concatenate((proteins_numbers_shuffled[:i*batch_size_test], proteins_numbers_shuffled[(i+1)*batch_size_test:]), axis=None)\n",
    "            else:\n",
    "                proteins_numbers_test = proteins_numbers_shuffled[i*batch_size_test:]\n",
    "                proteins_numbers_train = proteins_numbers_shuffled[:i*batch_size_test]\n",
    "            \n",
    "            train_indexes = np.where(np.isin(data_list[:,0], proteins_numbers_train))[0]\n",
    "            test_indexes = np.where(np.isin(data_list[:,0], proteins_numbers_test))[0]\n",
    "\n",
    "            df_test = df.loc[df['protein_number'].isin(proteins_numbers_test)]\n",
    "            df_train = df.loc[df['protein_number'].isin(proteins_numbers_train)]\n",
    "            PDB_codes_test = pd.unique(df_test['PDB_code'])\n",
    "            PDB_codes_train = pd.unique(df_train['PDB_code'])\n",
    "            df_CATH_training = df_CATH[df_CATH['PDB_code'].isin(PDB_codes_train)]\n",
    "            df_CATH_test = df_CATH[df_CATH['PDB_code'].isin(PDB_codes_test)]\n",
    "\n",
    "        if use_MSA_training:\n",
    "            x_train = x_MSA[train_indexes,:,:]\n",
    "        else:\n",
    "            x_train = x[train_indexes,:,:]\n",
    "\n",
    "        y_train = y[train_indexes,:]\n",
    "        model = NN_training(x_train,y_train)\n",
    "\n",
    "        if use_MSA_training:\n",
    "            x_test = x_MSA[test_indexes,:,:]\n",
    "        else:\n",
    "            x_test = x[test_indexes,:,:]\n",
    "\n",
    "        y_test = y[test_indexes,:]\n",
    "        prediction = model.predict(x_test)\n",
    "        hard_prediction = hard_decision(prediction)\n",
    "\n",
    "        if use_predicted_ss_for_CATH_prediction:\n",
    "            df_ss_pred_for_CATH_pred = get_ss_pred_by_NN_for_CATH_pred(df_train, model,x_train)\n",
    "        else:\n",
    "            df_ss_pred_for_CATH_pred =  df_train\n",
    "\n",
    "        CATH_classifier = CATH_classifier_training(df_ss_pred_for_CATH_pred,df_CATH_training, classifier_type = CATH_classifier_type)\n",
    "\n",
    "        if cross_validation == \"leave_1_out\":\n",
    "            ss_percentage = np.expand_dims(compute_percentage_ss(hard_prediction)[:2],0)\n",
    "\n",
    "            y_test_not_1_hot = np.argmax(y_test, axis=1)\n",
    "            MCCs_list[i,:] = get_MCCs(hard_prediction,y_test_not_1_hot)\n",
    "            Q3_list[i] = compute_Q3(hard_prediction,y_test_not_1_hot)\n",
    "        else:\n",
    "            ss_percentage = np.zeros((len(proteins_numbers_test),2))\n",
    "            for j,protein_number in enumerate(proteins_numbers_test):\n",
    "                ss = hard_prediction[df_test['protein_number'] == protein_number]\n",
    "                ss_true =  df_test['secondary_structure_index'][df_test['protein_number'] == protein_number].values\n",
    "                ss_percentage[j,:] = compute_percentage_ss(ss)[:2]\n",
    "\n",
    "                Q3_list[protein_number] = compute_Q3(ss,ss_true)\n",
    "                MCCs_list[protein_number,:] = get_MCCs(ss,ss_true)\n",
    "\n",
    "\n",
    "        CATH_prediction = CATH_classifier.predict(ss_percentage) \n",
    "\n",
    "        if cross_validation == \"leave_1_out\":\n",
    "            CATH_class = df_CATH_test['protein_family_index'].iloc[0]\n",
    "            CATH_predictions_performance[i,:] = np.array([CATH_class, CATH_prediction[0]])\n",
    "            if verbose:\n",
    "                ss_conversion = [\"H\",\"E\",\"C\"]\n",
    "                ss_predicted_string = \"\"\n",
    "                for ss in hard_prediction: ss_predicted_string+= ss_conversion[ss]\n",
    "                print(PDB_codes_test,ss_predicted_string , round(Q3_list[i],3), round(MCCs_list[i,3],3), list_protein_families[CATH_predictions_performance[i,1]])\n",
    "\n",
    "        else:\n",
    "           for j,protein_number in enumerate(proteins_numbers_test):\n",
    "                PDB_code = df_test['PDB_code'][df_test['protein_number'] == protein_number].iloc[0]\n",
    "                CATH_predictions_performance[protein_number,0] = df_CATH_test['protein_family_index'][df_CATH_test[\"PDB_code\"] == PDB_code].iloc[0]\n",
    "                CATH_predictions_performance[protein_number,1] = CATH_prediction[j]\n",
    "    return Q3_list,MCCs_list,CATH_predictions_performance"
   ]
  },
  {
   "cell_type": "markdown",
   "metadata": {},
   "source": [
    "Running the leave one out cross validation on GOR III without MSA information while using experimental data to train the CATH classifier (excluding the data from the test protein) takes about 5min but running the leave one out cross validation on the Neural network with MSA information while using predicted secondary structure data to train the CATH classifier takes about 1 or 2 hours. If verbose is set to True, it prints the results under the required format from the assignment."
   ]
  },
  {
   "cell_type": "code",
   "execution_count": 36,
   "metadata": {},
   "outputs": [
    {
     "name": "stdout",
     "output_type": "stream",
     "text": [
      "1w0n HHHHEHHEHECEHEECEECECCCCEEEEHCCCCCHCCHCHEECEECEEEEEECCCCCCHEEEEEEEEEEEEEEEEECCCECCECCEECHHHHHHCHHHEEEEECCCCCEHCHCHHHEHEC 0.533 0.249 Alpha/beta\n",
      "2gpi CCCCCEECHHEECHHHEHHHHHHHHHCCCHEECCHHHHHHHHHHHHHHHHHHHHHHHHHHHCHHHHHHHHHHHHCHCHCHHECEEEEHE 0.562 0.361 Alpha\n",
      "1vbw EECCCCCCCHECCEHCHHHHHHHHHCCCHCHEEEEEEECCCCCCCECCECEEEEEHECCCECCCCCCE 0.691 0.496 Alpha/beta\n",
      "2odk ECEHHCHHCCHHHHHHHCHCCCCCEHEHHHCCCHEEEEECHHHHHHHHHH 0.62 0.388 Alpha/beta\n",
      "2zxy CCHHEEEECCCCCCCEEEECEEHCHCHHHHHHHHHHCCHHHHHHHHCCCHCHHCHCHHHHHCHCCEHHHHCCHHHHHHHHHHHEHH 0.651 0.42 Alpha\n",
      "2pr7 HCEEEEEEEEEECCCCHEHHHHHHHHHHHHCCCCEEEEEECCCCCCECEECHEHEHCCCHHEEEEEECCCCCCHHHHHHHHHHHHHCCCCCHEECCHEHCCHEHHHECEEEEEHHHCHECEHEEEEEECCCCCEH 0.607 0.43 Alpha/beta\n",
      "2pyq CCCCHHHHHHHHHHHCHCECCCCHHHHEHCHCHCCCCEECCCHEEECCCCEEEHHHHHHHHHEHCCCCECHCCEHEEEEEECCHCCCHCCCEEEEHEEEHCCCCECEE 0.583 0.382 Alpha/beta\n",
      "1jy2 CCECCCCCCCCCCCCCCCCHCECEHEHECCHHHCHHHHCHHHC 0.605 0.416 Alpha/beta\n",
      "1j3a EHHEHCCHCHHHEHHHHHHHHHCCCCEEEEEECCHHHCECCCEEEEECHCHCCCCCCCHHHHHHHHEECCCCECHCHHHHHHEHEEEECCCCCHCHHCHHHHHHHHEHCCCCECCEEEHEHEHCHCHEC 0.574 0.341 Alpha/beta\n",
      "3gix HCHCHCCHHCHHHHHHHHHHHHHEEEEECCCCCCHHEECHHHHEHHCHHHHHHHHHEHEECCCCCEEEECEEEECECCECHCCHCEECEEEECCCCCCCEEHEEECHCCCHEHHHHEHHHHCHEHEEECCCCCCECCCECC 0.539 0.303 Alpha/beta\n",
      "1eaq HEEEHCCCCCCEEEECCHCHCECCCHCCCCCCCHCCCEEEEEEECCCCCCEEEEECCCCCHCCHHHHHHHHHHHHHHECHEHEEEECCCCCCEEEEEEEECCCCCCHEEHECEEEEECCCC 0.562 0.284 Alpha/beta\n",
      "3c8l HCHHEEEEHCCCECHCCCHHEHHHHHHHHHHEHCCCHCCEEEECCCCCCCHEEEEEECECCCHHHHHEHHEHCCCCCEEEEEECCCECCEEECECHHHCCHHHHEHEEHHEEHCE 0.617 0.434 Alpha/beta\n",
      "1mj4 CEEEEECECCCECCHCCEEEEECCCEHEECEEEEEECCCCHCEEEEECCCCCCCCCEHHECHCCHHHHHHHHHHHHHEC 0.519 0.274 Alpha/beta\n",
      "2dko CCCCHCCHCECCCECECHHHEEEECCCEHEEEECECCCEEHHHHHHHHHHHHHHCHHHHHEHCCCHHEHECEHEEHEECEEHHCHCCCHEHEECCHCEEEEHH 0.515 0.302 Alpha/beta\n",
      "3chb CCHECEHHHCHHHHHECEHCCHCHEHHHHHHCHCHHCEEEEECCCCEECEECECCCEHHHHHHHHHHHHHHHHHHHHHHHEHHHHHECECCCECEHHHHHHHH 0.495 0.302 Alpha/beta\n",
      "1jcd HHHCCHHHHHHHHHHHHHHHHHHHHHHHHHHHHHHHHHHHHHHHHHHHHH 0.9 -0.052 Alpha\n",
      "2wlv ECEECCEEEECEECCHCHHHHHHHCHHEECCCEEECHHCEECCCCCCHCEHECEEECHHHCHHHCHHHHHHHHHCHHHHECCCCCCCECCCCCCCCCCCCECECCEECHEHHHEEEECCCCCCCCEEEEHEHHHECHECEHEHH 0.569 0.391 Alpha/beta\n",
      "2rkl CCCCHHHHHHHHHCHHHHHHHHHHHHHHHECECHCCHCHCHHHHHHHHHHHHH 0.774 0.274 Alpha\n",
      "1xod HHHEHEEHEECECCCCHEHEEECCCCCEEEEEECHHHHEHHCHCCCEHEHEEHHCHEECECECCCHEEECEECEECCHEEECCCHCHHHHHHHHHHHHHHHHCHH 0.59 0.415 Alpha/beta\n",
      "1whz CCCCHHHHHHHHHHHHHHEHCHCCCEEEEECCCCEEEEEECCCCCCCCHHEHEEHHCCCCCHHHHHH 0.761 0.629 Alpha/beta\n",
      "1u84 HHHHHHHHHHEHHCHCECCCCCCECHHEHHHHHHHHHHHHCHHHHHHHHHHHHEEECCCCCCCHCHHHHHHHHHHHHHHHH 0.802 0.551 Alpha\n",
      "1jni CCCCCHCCHEHEECEHCCEEEEECCCCCCHCCCCCCECCHCHCHHCCHECCCECEHEEHECE 0.452 -0.02 Alpha/beta\n",
      "1wt6 HHHHHHHHHHHHHHHHHHHHHHHHHHHHHHHHHHHHHHHHHHHHHHHHHHHHHHHHHHHHHHHHH 0.938 0.0 Alpha\n",
      "2x1f CCEEEEEEECCCECCCHHHEHCHCCCHEHEEEEECCCHCCCCCCEEEEEEHEECHHCHHHHHHHHHHECHHCEEEEECCCCECCCECEEECCHC 0.585 0.376 Alpha/beta\n",
      "1i8o EHHCHHEHHHECHHCHCCCCHECECCCCHCEHCECCCCCEEEEECCECCCHCEHEEEECCECCECCCCHCCHHHHHHHHCCECHEEEECHHEEEHHHHHHCHHHHHHHHEHHC 0.469 0.171 Alpha/beta\n",
      "1gpq CHEHEHHCCCHCHHHHHHHHHCCHHECCECEECCCCECCEEEEECCCCECEHEHCCCECCHCCECEEEEEHHCHHCCEHEEEEHCCHCCHHHHHHHEHECCCCCCCCHEEEEEHHECCCCCCCECEE 0.465 0.188 Alpha/beta\n",
      "2pvb HHCHHCHHCHHHHHHHHHHHHHCHCHHHHEEEHCCHCCCHHHCHHHEEEECCCCHHHHHHHHHEHHHCHCHCCHHHHHHHHHHHHEHCCCCCCHCEEHHHHHHHHHH 0.598 0.279 Alpha\n",
      "2hly HHHEHHEEECCECECHHEEHEHHHEHCHCCHCCCHCHEEHHHCEHHHEHCECEECECCCEEEEHCCHHEEEHCECCCEHECCCCCEEEEHHCCCHEHHCCCCCHCCCHHHHCCEHHCCCHCHHHHCHHHHHHCCCCCCHEHHCHHCHHHHHHHCHHECEHHCHHHHEHHCHHCCCHHHHEEEECCCHCCCEEEEEECEECCCHCH 0.483 0.22 Alpha/beta\n",
      "1wna EEEHCCCEHHCHHHHHHHHHHCHCHHHEEHEHHHCHHCCHHHHHHEHHHHHCCCEECECCCCCCCCCCCHHHHHHHHHHHHHHHHHHHEECCCHCHHEHEHCCHHHHHHHHEHECCCCHHEEE 0.496 0.277 Alpha/beta\n",
      "1ltz EEECECECECEEEECEECCCCCCECHHHCCCHHCHCHEHHHHHHCCHCCCCCCHHHHHHHHCHHECECHCCHCHHHHCHHHHHHHHCEEEECCCCCCCCCHEEHCCCCCCECEHCECCHHCCHHCCCCCCHEHCCCECCEEECHCHCHHHEHHHHHCCEHHHHHHCHCHCHEHEEECEECECCCCCCCEEEHCECCEHCHCHEEEEECCCCCHHHEEEEHCCCCCHCEHHCECEEEEHHHHHHHHHCCHCHHHHHHHHCCCCHCEECCECCCHE 0.522 0.248 Alpha/beta\n",
      "1sjw CHCHHHHHHHEHEEEHCCCECCCECCCECCCCCCEECHCCCHCHCCHEEHHEHHEEHCHHHHHHHHHHEECCHCCHHEHEEEHCEECHEEECCCCCCCEECHHHEHEEEEHEHEHCECCCHHCHHCEHECCCCECCCCCCHH 0.486 0.232 Alpha/beta\n",
      "1m55 HCCHHEEHEECCCECCCCCCCCCHEHCEHHEHCECECCCCCHCHCHHHHCHCCHHHHHHHHHHHEEHHHHHHCCEHEHECHCCCCCHEEEEEEEEHCCCCEEHHHCHHHHHEHHHHEEHECECCHCHEHHHEEHEHECCCCEEEEECCECEECECCCCCHCHHEHHHHHHHHHHHHHHHHHHHHHHHHHHHHH 0.596 0.388 Alpha/beta\n",
      "3mol EEEEEEECECCEEHHEEHHCCHHCEHHHCCCCECEEEEEECCCCECCCCCCECCEEEHHHHHHHHHECCCECEEEECCCCCCEHHHCCCHEEECEEEEEHCCHHECEEEHCECHEEECCCCCCHCCECCCEEEEEEEEECCCCCHHHHHHHHHHHHHCCHCEEEEHHHHHHHHHHHHHCHHCC 0.497 0.244 Alpha/beta\n",
      "2o9s CCCHCCHEEHEHEECCCCHEHEEEEHCHCHHHEHHHHCCCCECCCCCCCECCCCCEEEEEEEHCCEC 0.418 0.054 Alpha/beta\n",
      "3r9f ECECCECCCEEEECHHEHCCHHHHHHHHHHHHCCHCCHHHEHHCHHCECHCCECCCEEHHHHHHHHHHHHHHHEHHHHECEECEECEEEEEEHCCHHHCHHEEEHECCCECCEHHHEHHHHHHHHCECCCEEEEHEEEECHCCCHECHHHHEECCEEHHHHHHHCEHCCECECECEHHHE 0.517 0.28 Alpha/beta\n",
      "2wqk HCEEEECECCCCEHCCHHHHHHHHHHCEEEEEECCCCCCECECEEECCCEHEECECECCEEEEECCCECCHECCCHEEEECCCCCCEEEHECCCCCCCCCECEECEEHEHCHCHEEECCEECEEEECECCECECEHHEHEHEHEHEHEHECCCCCCEEEEEECECCCHHECECCEEEHCHEHHHHHEHEEECECCCCHCHHHEHHEHECHECCCCEEEEEECEECEEEECECECHCHEHEHEHEHHHH 0.54 0.305 Alpha/beta\n",
      "1nkd CCHHHHHHHHHHHEHCHEHCHHHHHHHHHHHHHHHHHHHHHHHEHCCHHHHHHHHEEHH 0.763 0.13 Alpha\n",
      "3lax CCCCHEEEHCCCCCECCHHHHHEEHHHCCCEHHEEEHHCCCCCCHHEEEHHHCHHHCCHHHHHHHHHHHHHHHHEHEEEEECEECECCCCHCCHEEHHHHCHHH 0.49 0.254 Alpha/beta\n",
      "1pe9 HEEHHHHHCCCCCHCEEEECCCCEEECCECCCCEEEEEEECHHHHHHHHHHCEHHEEEEEEEEEECCCCCCCCHHHHHHHHEEECCCCEEEEECCCCCECEEEEEEEECCCCCCEEEEEEEEECCCCECCCCHCECCCCECEHHHCHCCCCCCEEEEEEEEECCCCCCEEEHCCCCCCCEHEECHCEEECCCEEEEEECHHHCHCHEHEEEEEECEHCCCCCEHHEEEEEHECCHHEHCHCCCCECEECCCECECCCEECCCCHHEEEEEEEECCCEEEEEECCCEEEEEECCHHCHHEEHEHHCEEEEEECEECEEEEEEECCECCCECECECCCEEEECCHECCHHHHEHHHHCCHHEE 0.56 0.301 Alpha/beta\n",
      "1luc CEHECCHEECCCCCCHCHHHHHHHHHHCHCCCCCCCCHEEEHECHHHCHECCCCHCHEEEHHCCCECEEECCCEEEECCCCCECHHEHHHHHHHHHCCHEEEEEEECHCCCCCCEEHEHCCCCCHHHHHCCHHEHHCCCHCHEEECCHCHCHCECECCCCCCCCCCCCEEEEEECCCCHCHHHHHCCCHCHEEHHHHCHHHHHHHHHHHHHECCCCEECECEEEEEHECEECEECCHCHCHHHHHHHECEEEEHCHCHEEECCEEEEEECECCCHCHHHEEHHHEHCCCCCCCEECEEECCCCCHHHHHHHHCHCHCHHHHHHHHC 0.574 0.347 Alpha/beta\n",
      "3giu EEEEEECCCCCCCCCEHCHHHHHEHCHCHCHCEECCCCCCHCCHEHHHHHEHHCCHCCHHHEEEHECCCCCCCCCHCHEEEEEHCCCCCCCCCCCHHHHHHECCCCCCECECCECCCHEEEHHCCCCCCCECCCCHEHEEHEEHHHHHCCCCHCCCCCEEECECCCCECECCCCECCCCHCCHHHEHHHHHHHHHHHCCHHHEHHHCCC 0.617 0.391 Alpha/beta\n",
      "1wn2 ECCHCCHHHHHHHHHHHHHHHHHHHHHHHHHHHHHHHHHCHHHHEHHHHHCCHEEEEEHEHCHHHHHHHHHHHHHCCHCCHHHECCCCCCCCCEEEEEECCCCCCHEHEEHHHCHEEH 0.653 0.441 Alpha/beta\n",
      "3mxz HCCHHEECCCCCCHHCCHHHEHCHHCHHHHHHHHHHHHHHHCCCCHCEHHHCHHCHHCHEEECCHHHHHHHHHHHHHHHHHHHHHHHHHCCHCHHHHHHHHHHHCHC 0.71 0.239 Alpha\n",
      "3hlx EHEEECCHHHHHHHHHHCCCHHHCCCHHHEECHCCCCCHHEHEHHHCHECEEECECECCCHHHHCCCCHCCHHHHHHHEHEHHECCCHCCCHHEHHEHHCCHHECCHEHHCHCEECCCECCEHHHEHCHHHHHCHCHHHCCHCCHHCHCHHHECHCHCCCCCCCEEECHCCEEEHHHHHCHHHHHHHHHHHHHHHHHHHHHHCHHHHHHHHHEHHHHEHHHHHHHHHHCCCCCCCECEEHCCHHHHHHEHEEHC 0.606 0.288 Alpha/beta\n",
      "1oh0 CHCHHHHHHHHHHHEEECECHCHEEHHHEHCCCCEHCCCCCCCCCCHHHEHHEHHHCHCCCCEEEEEECCCCECCCCCCCCCEEEEEEECCCCCCCCHHEEHEECCCCHEHEHEHCHHHEHHCHC 0.544 0.332 Alpha/beta\n",
      "1c75 HHHEHHHHCEHEECCCCCCCCCCCHEEHHHCCCCCHHHHEHEHEHCCCCCEHECEEHHCHHHHHHHHHHHH 0.634 0.402 Alpha/beta\n",
      "1irq CCCCCHHEEHEEHCHCEEEEHHCCCCCHEHHHHHHHHHHHHHHCCHCC 0.625 0.385 Alpha/beta\n",
      "2pq7 HHHHHHHHHHHHHHHHCHHHHHCCCCCHCHCCCCECEECCHHHHHHHHHHHHHHHHHHHHHHHCCCCCCCCEECCCHCCHHCHHHECCCCCEECEEHEHHHHHHHHCCCCCCCCHHHHHHHHHHHHHHHHEEEEHEEECCCHEHHHHHHHHHCHEEHEHHHEHHHCHHC 0.574 0.171 Alpha\n",
      "1sx5 HCCHHHHHHHHHCHCCCECEECEECCECECCECCCCEHEHHHEECHCCHHEHHHEHCHCEECCCHCCCCHCCCCEEECCCCCCCHEEEHCEHEHEHCCHHEEEEEECECEEEHECCECECECCCCCHHECEEEECEEEEEEECCCCCEHEEEHEHHCCCCCCCEEEEHHCEEHHEECCCCCCCCCEEEEEHEEEHECHCCEEECCHECHHHHHHHHHCCCHEECECHCCHCHEEHEHHHECCCE 0.594 0.385 Alpha/beta\n",
      "1gxu CCCCHCEEEHEHEECECEECHHHHHHHHHHECECEEECCCCCEEEEECCCHCHHHEEHHCCCCCCCCHEECCCCHEHCCCCCCCCHEH 0.636 0.464 Alpha/beta\n",
      "1nz0 HHHHHHHHHHEHHHCCCCCCHCEEEEEEECCCECCHEEEEEEEEHCEHHHHHEHHHHHHHHCCCCEECCCCCCEEEEEECHCCCHCHEHEEHHHHHHHHHHHHHHHCH 0.611 0.402 Alpha/beta\n",
      "1jl0 HCCHCCCHHHHEHHHHHECCCEEEECECCCCHECCHECCCEEEECCCCCCHCHHHEHCHHECHHCCEEEEEHEHCHEHHHHHHEHHHCEHCCCCCCECCEHHEHCCHCECCCCCCCCCCHHHHEHHHHHEECECCCHCEHEEHCCCCHEEEECCCCCCCCCCCCHHEHEHHCCHCHHHHEHCCCCCEEEHECHCHCCEEECEECEEEEEECCCCCCCCCCECCCCEECEEECCCCCCCEECEEECCECCCCCHHHHHEHEEEECECCCEEEEECCCCHECEEHHHCCEHEHCHCHHHEHCEHHEHHCHCC 0.503 0.241 Alpha/beta\n"
     ]
    },
    {
     "ename": "KeyboardInterrupt",
     "evalue": "",
     "output_type": "error",
     "traceback": [
      "\u001b[0;31m---------------------------------------------------------------------------\u001b[0m",
      "\u001b[0;31mKeyboardInterrupt\u001b[0m                         Traceback (most recent call last)",
      "\u001b[0;32m<ipython-input-36-7493f5abd329>\u001b[0m in \u001b[0;36m<module>\u001b[0;34m\u001b[0m\n\u001b[0;32m----> 1\u001b[0;31m \u001b[0mQ3_list\u001b[0m\u001b[0;34m,\u001b[0m\u001b[0mMCCs_list\u001b[0m\u001b[0;34m,\u001b[0m\u001b[0mCATH_predictions_performance\u001b[0m \u001b[0;34m=\u001b[0m \u001b[0mGOR_III_performance\u001b[0m\u001b[0;34m(\u001b[0m\u001b[0mdata_stride\u001b[0m\u001b[0;34m,\u001b[0m\u001b[0mdata_cath\u001b[0m\u001b[0;34m)\u001b[0m\u001b[0;34m\u001b[0m\u001b[0;34m\u001b[0m\u001b[0m\n\u001b[0m",
      "\u001b[0;32m<ipython-input-35-8cdd374cd095>\u001b[0m in \u001b[0;36mGOR_III_performance\u001b[0;34m(df, df_CATH, use_predicted_ss_for_CATH_prediction, cross_validation, k, use_MSA_testing, CATH_classifier_type, verbose)\u001b[0m\n\u001b[1;32m     64\u001b[0m             \u001b[0mdf_CATH_test\u001b[0m \u001b[0;34m=\u001b[0m \u001b[0mdf_CATH\u001b[0m\u001b[0;34m[\u001b[0m\u001b[0mdf_CATH\u001b[0m\u001b[0;34m[\u001b[0m\u001b[0;34m'PDB_code'\u001b[0m\u001b[0;34m]\u001b[0m\u001b[0;34m.\u001b[0m\u001b[0misin\u001b[0m\u001b[0;34m(\u001b[0m\u001b[0mPDB_codes_test\u001b[0m\u001b[0;34m)\u001b[0m\u001b[0;34m]\u001b[0m\u001b[0;34m\u001b[0m\u001b[0;34m\u001b[0m\u001b[0m\n\u001b[1;32m     65\u001b[0m \u001b[0;34m\u001b[0m\u001b[0m\n\u001b[0;32m---> 66\u001b[0;31m         \u001b[0mI\u001b[0m \u001b[0;34m=\u001b[0m \u001b[0mGOR_III_get_I_remove_protein\u001b[0m\u001b[0;34m(\u001b[0m\u001b[0mtest_data_list\u001b[0m\u001b[0;34m,\u001b[0m \u001b[0mtotal_counts\u001b[0m\u001b[0;34m)\u001b[0m\u001b[0;34m\u001b[0m\u001b[0;34m\u001b[0m\u001b[0m\n\u001b[0m\u001b[1;32m     67\u001b[0m         \u001b[0mss_predicted\u001b[0m \u001b[0;34m=\u001b[0m  \u001b[0mGOR_III_predict\u001b[0m\u001b[0;34m(\u001b[0m\u001b[0mI\u001b[0m\u001b[0;34m,\u001b[0m \u001b[0mdf_test\u001b[0m\u001b[0;34m,\u001b[0m\u001b[0muse_MSA_testing\u001b[0m \u001b[0;34m=\u001b[0m \u001b[0muse_MSA_testing\u001b[0m\u001b[0;34m)\u001b[0m\u001b[0;34m\u001b[0m\u001b[0;34m\u001b[0m\u001b[0m\n\u001b[1;32m     68\u001b[0m \u001b[0;34m\u001b[0m\u001b[0m\n",
      "\u001b[0;32m<ipython-input-15-f621dcfdde73>\u001b[0m in \u001b[0;36mGOR_III_get_I_remove_protein\u001b[0;34m(test_data_list, total_counts)\u001b[0m\n\u001b[1;32m     41\u001b[0m             \u001b[0;32mfor\u001b[0m \u001b[0mss\u001b[0m \u001b[0;32min\u001b[0m \u001b[0mrange\u001b[0m\u001b[0;34m(\u001b[0m\u001b[0;36m3\u001b[0m\u001b[0;34m)\u001b[0m\u001b[0;34m:\u001b[0m\u001b[0;34m\u001b[0m\u001b[0;34m\u001b[0m\u001b[0m\n\u001b[1;32m     42\u001b[0m                 \u001b[0;32mfor\u001b[0m \u001b[0mres_other\u001b[0m \u001b[0;32min\u001b[0m \u001b[0mrange\u001b[0m\u001b[0;34m(\u001b[0m\u001b[0mlen\u001b[0m\u001b[0;34m(\u001b[0m\u001b[0mlist_amino_acids\u001b[0m\u001b[0;34m)\u001b[0m\u001b[0;34m+\u001b[0m\u001b[0;36m1\u001b[0m\u001b[0;34m)\u001b[0m\u001b[0;34m:\u001b[0m\u001b[0;34m\u001b[0m\u001b[0;34m\u001b[0m\u001b[0m\n\u001b[0;32m---> 43\u001b[0;31m                     \u001b[0mI\u001b[0m\u001b[0;34m[\u001b[0m\u001b[0mw\u001b[0m\u001b[0;34m+\u001b[0m\u001b[0mdelta\u001b[0m\u001b[0;34m,\u001b[0m\u001b[0mres_center\u001b[0m\u001b[0;34m,\u001b[0m\u001b[0mres_other\u001b[0m\u001b[0;34m,\u001b[0m\u001b[0mss\u001b[0m\u001b[0;34m]\u001b[0m \u001b[0;34m=\u001b[0m \u001b[0mnp\u001b[0m\u001b[0;34m.\u001b[0m\u001b[0msum\u001b[0m\u001b[0;34m(\u001b[0m\u001b[0mnp\u001b[0m\u001b[0;34m.\u001b[0m\u001b[0mlog\u001b[0m\u001b[0;34m(\u001b[0m\u001b[0mcounts\u001b[0m\u001b[0;34m[\u001b[0m\u001b[0mw\u001b[0m\u001b[0;34m+\u001b[0m\u001b[0mdelta\u001b[0m\u001b[0;34m,\u001b[0m\u001b[0mres_center\u001b[0m\u001b[0;34m,\u001b[0m\u001b[0mres_other\u001b[0m\u001b[0;34m,\u001b[0m\u001b[0mss\u001b[0m\u001b[0;34m]\u001b[0m\u001b[0;34m)\u001b[0m\u001b[0;34m*\u001b[0m\u001b[0;34m[\u001b[0m\u001b[0;36m1\u001b[0m\u001b[0;34m,\u001b[0m\u001b[0;34m-\u001b[0m\u001b[0;36m1\u001b[0m\u001b[0;34m,\u001b[0m\u001b[0;36m1\u001b[0m\u001b[0;34m,\u001b[0m\u001b[0;34m-\u001b[0m\u001b[0;36m1\u001b[0m\u001b[0;34m]\u001b[0m\u001b[0;34m)\u001b[0m\u001b[0;34m\u001b[0m\u001b[0;34m\u001b[0m\u001b[0m\n\u001b[0m\u001b[1;32m     44\u001b[0m \u001b[0;34m\u001b[0m\u001b[0m\n\u001b[1;32m     45\u001b[0m     \u001b[0;32mreturn\u001b[0m \u001b[0mI\u001b[0m\u001b[0;34m\u001b[0m\u001b[0;34m\u001b[0m\u001b[0m\n",
      "\u001b[0;31mKeyboardInterrupt\u001b[0m: "
     ]
    }
   ],
   "source": [
    "Q3_list,MCCs_list,CATH_predictions_performance = GOR_III_performance(data_stride,data_cath,verbose=True)"
   ]
  },
  {
   "cell_type": "markdown",
   "metadata": {},
   "source": [
    "The sequences of the 6 test proteins and their secondary structures are stored in the files test_prot.fasta and test_prot_ss.fasta int the fasta_files folder. Their predicted secondary structure and CATH class is computed by running the code below."
   ]
  },
  {
   "cell_type": "code",
   "execution_count": 77,
   "metadata": {},
   "outputs": [
    {
     "name": "stdout",
     "output_type": "stream",
     "text": [
      "1arl CCCCCCCCEEHECCHHHHHHHHHHHHHHCCHHHHHHHHCCCCCCCCEEEEEECCCCCCCCEEEEEHCCCCHHEEEHHHCEEEHHHCCCCCCCCCCCHEHHHCHHHHEEEECCCCCCEEEHHHHHHHHECCCCCCCCEEEECCCCCCCCHCCCCCCCCCCCCCCCHCCECCCCCHEEEEEEEEHCCCCCCHEEEEHHCHHHEEECCCCCCCCCCCCCHHHHHHHHHHHHHHHHHCCCCCCCCEEEEEEEECCCCCCEEEHCCCCEEEEEEEEHCCCCCCEECCCCCCCCCHHHCHHHEEEEHEEECCC 0.593 0.373 Alpha/beta\n",
      "\n",
      "1ava CCCCCCCCCCCHCHHHHHHHHHEHHCCCCCCCCEECCCCCCCCCEEECCCCCCCCCCCCEEECCCCCCCCCCEEEECHCCCHHHHHHEECHHCCHHHHHHHHHHCCEEEEECCCCCCCCCCCHHHEEEHHHCCCHHHHHEHHCCCCCCHCHHEHECHCCCCEEECCCCCCEEEEEECCCCC 0.514 0.223 Alpha/beta\n",
      "\n",
      "1avm CCEECCCCCCCCCCCCCCHCHCHHHHHCCCCHCEHHHCHCHHHHHHHHHHCHHCHHHHHHHHHHHHHHHCCCCCCEEEEECCCCCCCCCCCCCHHHCHHHHHHHCCHHHHHHHHHHHHHCCCCCCCEEEEECCCCCCEHHEHEHCCCCCCCCCCCCHHHHHHHHHHHHHHHECCCCCEEEEEEEEECCCHHHHHHHHHHCC 0.687 0.484 Alpha/beta\n",
      "\n",
      "1hge CCCCEHEEEHCCCCCCEECCCEEEECCCCCCCCCHHHHHHHHHHHHHHHHCHHHEHHHHCHHHHHHHHHHHHHHHHHHHHHHHHHHHHHHHHHHHHHHHHHHHHCCCEECHHHHHHHHHHHHHHHHHHHHHHHCCCCEEEEECCCHCCEHEHCCCCCCCCHHHHHHHHHHHEECC 0.651 0.398 Alpha\n",
      "\n",
      "1hmo CCCCCCCCCCCCCCCEEEEEHCHCHHHHHHHHEEHHHCCCHHHHHHHHHCCCHHHHHHHHHHHHHHHHHHHHHHHCHCHHEEEHCCCCCCCHHHHHHHEEEEEEHEEEHCCCC 0.673 0.432 Alpha/beta\n",
      "\n",
      "1jsu CCCCCCCCCCCCCCCHHHHHHHHHHHHHHHHHHHHHHHHHCCCCCCCCCCCCEHHHHCCCCCCCEECCCCCCCCCCCECCCCCC 0.762 0.544 Alpha\n",
      "\n"
     ]
    }
   ],
   "source": [
    "#Function that reads the test sequences\n",
    "\n",
    "ss_list = ['H','E','C']\n",
    "def get_test_sequences(fasta_file, ss =False):\n",
    "    f = open(fasta_file, \"r\")\n",
    "    fl = f.readlines()\n",
    "    f.close()\n",
    "    sequences = []\n",
    "    sequences_name = []\n",
    "    prot_number = 0\n",
    "    for line in fl:\n",
    "        if line[0] == \">\":\n",
    "            sequences_name.append(line[1:-1])\n",
    "            if (prot_number!=0): sequences.append(my_seq)\n",
    "            my_seq = []\n",
    "            prot_number+=1\n",
    "        else:\n",
    "            for i in range(len(line)-1):\n",
    "                if ss: my_seq.append(ss_list.index(line[i]))\n",
    "                else:\n",
    "                    if line[i] in list_amino_acids_1_letter: my_seq.append(list_amino_acids_1_letter.index(line[i]))\n",
    "                    else: my_seq.append(len(list_amino_acids_1_letter))    \n",
    "    sequences.append(my_seq)\n",
    "    return sequences_name,sequences\n",
    "\n",
    "\n",
    "\n",
    "#Train the NN on STRIDE data set\n",
    "df_simplified = data_stride[['protein_number', \n",
    "                    'PDB_seq_code', \n",
    "                    'residue_name_index', \n",
    "                    'secondary_structure_index',\n",
    "                    'PDB_code', \n",
    "                    'PDB_chain_code']]\n",
    "data_list = df_simplified.values\n",
    "x_train,y_train=  NN_change_format_data_for_input(data_list)\n",
    "model = NN_training(x_train,y_train)\n",
    "\n",
    "#Train the CATH family classifier\n",
    "CATH_classifier = CATH_classifier_training(data_stride, data_cath)\n",
    "\n",
    "#Load the test sequences and format them for the NN\n",
    "sequences_names,sequences = get_test_sequences(\"../fasta_files/test_prot.fasta\", ss=False)\n",
    "sequences_names,y_test = get_test_sequences(\"../fasta_files/test_prot_ss.fasta\", ss=True)\n",
    "x_test = []\n",
    "for i in range(len(sequences)):\n",
    "    tmp = np.zeros((len(sequences[i]),4), dtype = int)\n",
    "    tmp[:,1] = np.arange(len(sequences[i])) \n",
    "    tmp[:,2] = sequences[i]\n",
    "    x_test_i,dummy = NN_change_format_data_for_input(tmp)\n",
    "    x_test.append(x_test_i)\n",
    "\n",
    "for i in range(len(sequences)):\n",
    "    \n",
    "    prediction = model.predict(x_test[i])\n",
    "    hard_prediction = hard_decision(prediction)\n",
    "    ss_percentage = np.expand_dims(compute_percentage_ss(hard_prediction)[:2],0)\n",
    "    CATH_prediction = CATH_classifier.predict(ss_percentage) \n",
    "    \n",
    "    Q3 = compute_Q3(hard_prediction,np.array(y_test[i]))\n",
    "    MCC = get_MCCs(hard_prediction,np.array(y_test[i]))[3]\n",
    "    ss_predicted_string = \"\"\n",
    "    for ss in hard_prediction: ss_predicted_string+= ss_list[ss]\n",
    "    print(sequences_names[i],ss_predicted_string , round(Q3,3), round(MCC,3), list_protein_families[int(CATH_prediction[0])])\n",
    "    print()\n"
   ]
  },
  {
   "cell_type": "markdown",
   "metadata": {},
   "source": [
    "## Results and Discussion<a name=\"Results\"></a>\n",
    "The performance of the algorithms is benchmarked by performing a leave one out cross validation on the STRIDE and DSSP provided datasets and computing the accuracy ($Q_3$ score) and the MCC score <cite data-cite=\"7413522/X9YYKVF2\"></cite>. For a binary classification problem, the MCC score is:\n",
    "\\begin{align}\n",
    "MCC = \\frac{TP\\times TN - FP\\times FN}{\\sqrt{(TP+FP)(TP+FN)(TN+FP)(TN+FN)}}\n",
    "\\end{align}\n",
    "where $TP$ is the number of true positives, $TN$ the number of true negatives, $FP$ the number of false positives and $FN$ the number of false negatives. If the denominator is 0, it is replaced by 1. For a multiclass classification problem, a one versus rest MCC score can be computed but there exits also a multiclass MCC score which is:\n",
    "\\begin{align}\n",
    "MCC = \\frac{\\sum_k \\sum_l \\sum_m C_{kk}C_{lm}-C_{kl}C_{mk}}{\\sqrt{\\sum_k \\left( \\sum_l C_{kl}\\right)\\left( \\sum_{k'|k'\\neq k} \\sum_{l'}C_{k'l'}\\right)}\\sqrt{\\sum_k \\left( \\sum_l C_{lk}\\right)\\left( \\sum_{k'|k'\\neq k} \\sum_{l'}C_{l'k'}\\right)}}\n",
    "\\end{align}\n",
    "where C is the confusion matrix i.e. $C_{i,j}$ is the number of item of class $j$ that are predicted as class $i$.\n",
    "\n",
    "## GOR III <a name=\"GORIII_res\"></a>\n",
    "In the graph below the mean Q3 score for GOR III on the STRIDE dataset is compared to the mean Q3 score of a random classifier on the same data set. For each residue, the random classifier samples a secondary structure with probability equal to the frequency of that secondary structure in the dataset.\n",
    "\n",
    "<img src=\"./img/GOR_III_Q3.png\" />\n",
    "\n",
    "The mean $Q_3$ score of GOR III is $57.8$% while for the random classifier, it is $34.7$%. The same graph is plot for the overall and the one versus rest MCC scores:\n",
    "\n",
    "<img src=\"./img/GOR_III_MCC.png\" />\n",
    "\n",
    "The MCC scores for the random classifiers are quite similar but for the GOR III classifier the MCC score for $\\beta$ sheet versus the rest (0.25) is lower than the other MCC scores ($MCC_\\alpha = 0.31 $,$MCC_{other} = 0.32 $,$MCC_{overall} = 0.31 $). This is a first indication that GOR III performs worse for $\\beta$ sheets.\n",
    "\n",
    "The next plot compares the $Q_3$ score of GOR III on the STRIDE dataset for proteins in each CATH protein family.\n",
    "\n",
    "<img src=\"./img/GOR_III_Q3_per_CATH_family.png\" />\n",
    "\n",
    "The $Q_3$ mean score for proteins in the $\\alpha$ CATH family ($63$%) is the highest while the $Q_3$ mean score for proteins in the $\\beta$ CATH family ($54$%) is the lowest. This confirms the previous observation that GOR III performs worse on $\\beta$ sheets.\n",
    "    \n",
    "It is interesting to note that GOR III has a very similar performance for the DSSP ($Q_3 = 0.579$) and STRIDE ($Q_3 = 0.577$) data sets as shown in the following boxplot.\n",
    "\n",
    "<img src=\"./img/GOR_III_STRIDE_vs_DSSP.png\" />\n",
    "\n",
    "This is interesting since STRIDE secondary structure algorithm is an extension of the DSSP algorithm. DSSP identifies hydrogen bonds based on inter atomic distances from a 3D model experimentally found (with X-Ray, NMR or other). STRIDE adds dihedral angle potentials to the model to determine the secondary structure. That shows that GOR III has an almost identical performance on the 2 secondary structure definitions.  \n",
    "\n",
    "The next performed experiment was to vary the window size ($=2\\times w+1$) from 0 to $21$ for GOR III. The boxplot for different values of $w$ is given below.\n",
    "\n",
    "<img src=\"./img/GOR_III_Q3_w.png\" />\n",
    "\n",
    "While an increase of $w$ increases the performance of the algorithm, it saturates by $w = 4$. Since in the original GOR III, $w=8$ was used, it is very probable that $w=8$ gave the best result for their implementation. The main difference between the algorithm described in the original paper and the algorithm implemented in this assignment is the way small counts during the pmi estimation are dealt with. In the original paper, they used Bayesian statistics to decrease the impact of small counts while here a pseudo count of $0.001$ is used. Increasing the value of this pseudo count would probably increase the performance of the algorithm since it would put less weight on small counts.\n",
    "\n",
    "In the next boxplot, the impact of using evolutionary information on the prediction step of GOR III on the $Q_3$ score is measured.\n",
    "\n",
    "<img src=\"./img/GOR_III_MSA.png\" />\n",
    "\n",
    "The mean $Q_3$ score is almost identical (0.578 without evolutionary information and 0.576 with it) however the variance of the $Q_3$ score increases when using evolutionary information. This is unfortunate since a lot of time and energy was put to obtain that evolutionary information. As mentioned before the low performance of this implementation of GOR III may be due to the low value for the pseudo counts. Maybe if that value was increased, adding evolutionary information would increase the performance of GOR III. Another possible reason of the discrepancy between this result and the result reported in <cite data-cite=\"7413522/8PN2TYVH\"></cite> is the procedure used to obtain the evolutionary information.\n",
    "\n",
    "## Neural Network <a name=\"NN_res\"></a>\n",
    "\n",
    "The neural network classifier has a better performance than GOR III as shown in the following boxplot of the $Q_3$ score.\n",
    "\n",
    "<img src=\"./img/GOR_III_vs_NN_Q3.png\" />\n",
    "\n",
    "The neural network achieves a mean accuracy of $Q_3 = 65$%. The neural netowrk also performs less well on $\\beta$ sheets as shown on the following box plot of the one versus rest MCC scores.\n",
    "\n",
    "<img src=\"./img/NN_MCC.png\" />\n",
    "\n",
    "Unfortunately adding the evolutionary information as in the PHD method in the implemented neural network worsens its performance as shown on the following boxplot.\n",
    "\n",
    "<img src=\"./img/NN_MSA.png\" />\n",
    "\n",
    "Adding evolutionary information decreases the mean $Q_3$ score from $65$% to $62$%. This could be explained by two reasons. It may be caused by the parameters used to obtain the evolutionary information. Maybe changing the Evalue threshold or the maximum number of hits, would change this result. The second reason could be that the neural network does not contain enough nodes or layers to learn from the evolutionary information. In the PHD method, they use 2 neural networks that are serially concatenated. Moreover, spending time tuning hyperparameters from the neural network could maybe increase its performance when evolutionary information is used.  \n",
    "\n",
    "## CATH family  <a name=\"CATH_res\"></a>\n",
    "The CATH family classifiers take as input the percentage of residues forming an $\\alpha$ helix and $\\beta$ sheet. The scatter of the proteins from the STRIDE data set is given below.\n",
    "\n",
    "<img src=\"./img/scatter.png\" />\n",
    "\n",
    "Since there are only 6 proteins in the None category and since they are not in a specific region of this two dimensional space, it is expected that the classifiers will fail to predict them correctly.\n",
    "\n",
    "The performance of the implemented CATH family classifiers on the training set when trained with the experimental data from STRIDE is close to $90$%. However the performance on the test set generated by the secondary structure algorithms is much lower. The confusion matrix of the CATH classifiers obtained with a leave one out crossvalidation of the GOR III algorithm are given below. For each round in the cross validation, the classifiers were trained with the experimentally found secondary structures from the STRIDE dataset (excluding the secondary structure of the protein that needs to be predicted). The column  of the confusion matrix corresponds to the true class while the row corresponds to the predicted class.\n",
    "\n",
    "Confusion matrix for the SVM classifier with radial basis function kernel:\n",
    "\n",
    "| Classes  | $\\alpha$  | $\\beta$  | $\\alpha$ $+ \\beta$  |  None |\n",
    "|---|---|---|-----|---|\n",
    "| $\\alpha$  | 48  |  0 | 6  | 0  |\n",
    "| $\\beta$  |  0 | 15  | 8  | 0  |\n",
    "| $\\alpha + \\beta$  | 80  | 84  | 245  | 6  |\n",
    "| None | 0  | 0  | 0  | 0  |\n",
    "\n",
    "Confusion matrix for the SVM classifier with linear kernel:\n",
    "\n",
    "| Classes  | $\\alpha$  | $\\beta$  | $\\alpha$ $+ \\beta$  |  None |\n",
    "|---|---|---|-----|---|\n",
    "| $\\alpha$  | 44  |  0 | 4  | 0  |\n",
    "| $\\beta$  |  0 | 12  | 87  | 0  |\n",
    "| $\\alpha + \\beta$  | 84  | 87  | 248  | 6  |\n",
    "| None | 0  | 0  | 0  | 0  |\n",
    "\n",
    "Confusion matrix for the logistic regression classifier:\n",
    "\n",
    "| Classes  | $\\alpha$  | $\\beta$  | $\\alpha$ $+ \\beta$  |  None |\n",
    "|---|---|---|-----|---|\n",
    "| $\\alpha$  | 46  |  0 | 6  | 0  |\n",
    "| $\\beta$  |  0 | 8  | 6  | 0  |\n",
    "| $\\alpha + \\beta$  | 82  | 91  | 247  | 6  |\n",
    "| None | 0  | 0  | 0  | 0  |\n",
    "\n",
    "They are very similar for each classifier and their accuracy is between 61% and 63%. As expected the proteins from the None class were wrongly predicted. The classifiers tend to predict most proteins class as $\\alpha + \\beta$, this could be explained by two main reasons. Firstly the training set is unbalanced and this has been reported in the literature to affect the performance of the one versus rest (OvR) multiclass classifiers. Another possible reason is the fact that the classifiers are trained with high quality secondary structures from STRIDE while the proteins classes are predicted from lower quality secondary structure predictions from GOR III. The prediction of $\\beta$ proteins is very innacurate. 99 proteins in the data set are in the $\\beta$ family. With the SVM classifier with radial basis function kernel 80 of them were predicted to be in the $\\alpha+\\beta$ family while only 15 were correctly predicted. This is the class whith lowest performance which correlates with GOR III and the neural network performing worse on $\\beta$ sheets.\n",
    "\n",
    "Training the classifiers with secondary structures predicted by GOR III can be done by setting the parameter use_predicted_ss_for_CATH_prediction = True in the GOR_II_performance function. During the leave one out procedure, the secondary structure of each protein in the training set is predicted with the GOR III algorithm trained on that same training set. This means that at each round of the cross validation, the secondary structure of all the proteins in the training set need to be predicted. Using this procedure, the confusion matrix for the SVM classifier with radial basis function kernel is:\n",
    "\n",
    "| Classes  | $\\alpha$  | $\\beta$  | $\\alpha$ $+ \\beta$  |  None |\n",
    "|---|---|---|-----|---|\n",
    "| $\\alpha$  | 38  |  15 | 1  | 0  |\n",
    "| $\\beta$  |  6 | 47  | 61  | 2  |\n",
    "| $\\alpha + \\beta$  | 84  | 37  | 197  | 4  |\n",
    "| None | 0  | 0  | 0  | 0  |\n",
    "\n",
    "It can be observed that in spite of having a lower accuracy ($57$%), the bias of the classifier is decreased. Out of 99 $\\beta$ proteins, 47 were correctly predicted. While in theory, to using another leave one out cross validation procedure to generate the training set of the CATH classifier at each round of the leave one out crossvalidation of the main algorithm, would increase the performance of the the CATH classfier, this is too computationally expensive. \n",
    "\n",
    "It would be interesting to design a protein family classifier that takes as input the output probabilities of the neural network or GOR III instead of their hard predictions.\n",
    "\n",
    "## Conclusion <a name=\"Conclusion\"></a>\n",
    "In this assignment, GOR III and a secondary structure classifier based on a neural network were implemented. The neural network classifier outperformed GOR III but both had a lower performance on $\\beta$ sheets than on other secondary structures.\n",
    "\n",
    "In the given implementation, adding evolutionary information does not affect the performance of GOR III and worsens the performance of the neural network. This could be explained by a low pseudo count used for GOR III and a non optimal choice of architecture and hyper parameters for the neural network. Another reason could be a non optimal set of parameters used to obtain that evolutionary information.\n",
    "\n",
    "Different classifiers were trained to predict the CATH family of a protein given its secondary structure prediction from GOR III or the neural network. Support vector machines as well as a logistic regression were implemented. While they had a similar performance, they all had a strong bias towards the $\\alpha + \\beta$ class. Training the classifiers on predicted secondary structures instead of on true secondary structures decreased the bias at the expense of a slightly lower accuracy.\n",
    "\n",
    "It would be interesting to generate a consensus classifier that combines the predictions from GOR III and the neural Network to increase their individual performances.\n",
    "\n",
    "## Bibliography\n",
    "<div class=\"cite2c-biblio\"></div>"
   ]
  },
  {
   "cell_type": "code",
   "execution_count": null,
   "metadata": {},
   "outputs": [],
   "source": []
  },
  {
   "cell_type": "code",
   "execution_count": null,
   "metadata": {},
   "outputs": [],
   "source": []
  }
 ],
 "metadata": {
  "cite2c": {
   "citations": {
    "7413522/2YZQU6A6": {
     "author": [
      {
       "family": "Gibrat",
       "given": "J-F"
      },
      {
       "family": "Garnier",
       "given": "J"
      },
      {
       "family": "Robson",
       "given": "Barry"
      }
     ],
     "container-title": "Journal of molecular biology",
     "id": "7413522/2YZQU6A6",
     "issue": "3",
     "issued": {
      "year": 1987
     },
     "page": "425–443",
     "page-first": "425",
     "title": "Further developments of protein secondary structure prediction using information theory: new parameters and consideration of residue pairs",
     "type": "article-journal",
     "volume": "198"
    },
    "7413522/8PN2TYVH": {
     "author": [
      {
       "family": "Kloczkowski",
       "given": "A"
      },
      {
       "family": "Ting",
       "given": "K-L"
      },
      {
       "family": "Jernigan",
       "given": "RL"
      },
      {
       "family": "Garnier",
       "given": "J"
      }
     ],
     "container-title": "Proteins: Structure, Function, and Bioinformatics",
     "id": "7413522/8PN2TYVH",
     "issue": "2",
     "issued": {
      "year": 2002
     },
     "page": "154–166",
     "page-first": "154",
     "title": "Combining the GOR V algorithm with evolutionary information for protein secondary structure prediction from amino acid sequence",
     "type": "article-journal",
     "volume": "49"
    },
    "7413522/DA7L73P5": {
     "author": [
      {
       "family": "Rost",
       "given": "Burkhard"
      },
      {
       "family": "Sander",
       "given": "Chris"
      },
      {
       "family": "others",
       "given": ""
      }
     ],
     "container-title": "Journal of molecular biology",
     "id": "7413522/DA7L73P5",
     "issue": "2",
     "issued": {
      "year": 1993
     },
     "page": "584–599",
     "page-first": "584",
     "title": "Prediction of protein secondary structure at better than 70% accuracy",
     "type": "article-journal",
     "volume": "232"
    },
    "7413522/JWTFEC2N": {
     "author": [
      {
       "family": "Orengo",
       "given": "Christine A"
      },
      {
       "family": "Michie",
       "given": "Alex D"
      },
      {
       "family": "Jones",
       "given": "Susan"
      },
      {
       "family": "Jones",
       "given": "David T"
      },
      {
       "family": "Swindells",
       "given": "Mark B"
      },
      {
       "family": "Thornton",
       "given": "Janet M"
      }
     ],
     "container-title": "Structure",
     "id": "7413522/JWTFEC2N",
     "issue": "8",
     "issued": {
      "year": 1997
     },
     "note": "Publisher: Elsevier",
     "page": "1093–1109",
     "page-first": "1093",
     "title": "CATH–a hierarchic classification of protein domain structures",
     "type": "article-journal",
     "volume": "5"
    },
    "7413522/X9YYKVF2": {
     "author": [
      {
       "family": "Matthews",
       "given": "Brian W"
      }
     ],
     "container-title": "Biochimica et Biophysica Acta (BBA)-Protein Structure",
     "id": "7413522/X9YYKVF2",
     "issue": "2",
     "issued": {
      "year": 1975
     },
     "page": "442–451",
     "page-first": "442",
     "title": "Comparison of the predicted and observed secondary structure of T4 phage lysozyme",
     "type": "article-journal",
     "volume": "405"
    },
    "7413522/Y7JA53G9": {
     "author": [
      {
       "family": "Garnier",
       "given": "Jean"
      },
      {
       "family": "Osguthorpe",
       "given": "David J"
      },
      {
       "family": "Robson",
       "given": "Barry"
      }
     ],
     "container-title": "Journal of molecular biology",
     "id": "7413522/Y7JA53G9",
     "issue": "1",
     "issued": {
      "year": 1978
     },
     "note": "Publisher: Academic Press",
     "page": "97–120",
     "page-first": "97",
     "title": "Analysis of the accuracy and implications of simple methods for predicting the secondary structure of globular proteins",
     "type": "article-journal",
     "volume": "120"
    }
   }
  },
  "kernelspec": {
   "display_name": "cgtenv",
   "language": "python",
   "name": "cgtenv"
  },
  "language_info": {
   "codemirror_mode": {
    "name": "ipython",
    "version": 3
   },
   "file_extension": ".py",
   "mimetype": "text/x-python",
   "name": "python",
   "nbconvert_exporter": "python",
   "pygments_lexer": "ipython3",
   "version": "3.7.7"
  }
 },
 "nbformat": 4,
 "nbformat_minor": 4
}
